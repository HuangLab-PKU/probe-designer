{
 "cells": [
  {
   "cell_type": "code",
   "execution_count": 105,
   "metadata": {},
   "outputs": [],
   "source": [
    "from seqfold import dg, fold, dot_bracket\n",
    "import random\n",
    "\n",
    "from Bio.Blast import NCBIXML\n",
    "\n",
    "\n",
    "def random_seq_list(length=20, num=50):\n",
    "    nucleotides = ['A', 'T', 'C', 'G']\n",
    "    sequence = [''.join(random.choice(nucleotides) for _ in range(length)) for j in range(num)]\n",
    "    return sequence\n",
    "\n",
    "\n",
    "def hum_dis(seq1, seq2):\n",
    "    if len(seq1) != len(seq2):\n",
    "        print(\"seq_not_match\")\n",
    "    else:\n",
    "        cont = 0\n",
    "        for char in range(len(seq1)):\n",
    "            if seq1[char] != seq2[char]:\n",
    "                cont += 1\n",
    "        return cont\n",
    "\n",
    "\n",
    "def dna_sec_struct(seq, temp=45):\n",
    "    # Predict the minimum free energy\n",
    "    mfe = dg(seq, temp=temp)\n",
    "    # `fold` returns a list of `seqfold.Struct` from the minimum free energy structure\n",
    "    structs = fold(seq, temp=temp)\n",
    "    return mfe, structs\n",
    "\n",
    "\n",
    "def thre_by_blast(file=\"./JXAKR9US016-Alignment.xml\", thre=18):\n",
    "    pos = []\n",
    "    with open(file, \"r\") as blast_output:\n",
    "        blast_records = NCBIXML.parse(blast_output)\n",
    "        for blast_record in blast_records:\n",
    "            save = True\n",
    "            for alignment in blast_record.alignments:\n",
    "                # print(\"Alignment title:\", alignment.title)\n",
    "                # print(\"Length of the alignment:\", alignment.length)\n",
    "\n",
    "                # # Iterate over the high-scoring pairs (HSPs) in the alignment\n",
    "                for hsp in alignment.hsps:\n",
    "                    # print(\"HSP score:\", hsp.score)\n",
    "                    if hsp.score >= thre:\n",
    "                        pos.append(False)\n",
    "                        save = False\n",
    "                        break\n",
    "                    # print(\"HSP bits:\", hsp.bits)\n",
    "                    # print(\"HSP query sequence:\", hsp.query)\n",
    "                    # print(\"HSP match sequence:\", hsp.match)\n",
    "                    # print(\"HSP subject sequence:\", hsp.sbjct)\n",
    "            if save:\n",
    "                pos.append(True)\n",
    "    return pos"
   ]
  },
  {
   "cell_type": "code",
   "execution_count": 103,
   "metadata": {},
   "outputs": [
    {
     "name": "stdout",
     "output_type": "stream",
     "text": [
      "ATAGCACATTGTAGCCGTGC: \tthre_by_stru\t ...((((.........))))\n",
      "ACTGATTCCCGTGCAAGCGG: \tthre_by_stru\t ........(((......)))\n",
      "ATTCAAAGTGAATAACATCC: \tthre_by_stru\t (((((...))))).......\n",
      "ACACGCTTAGCACCTCTGCT: \tthre_by_stru\t ........((((....))))\n",
      "GGCTTGCCTACGCCCGCCTC: \tthre_by_stru\t (((..((....))..)))..\n",
      "GAAATCGTGGGGCTCCCGAG: \tthre_by_dif\n",
      "GGTAGCCCGCATAAGGGCAG: \tthre_by_stru\t ....((((......))))..\n",
      "TGGGGTATACCCGTTTCGGT: \tthre_by_stru\t .(((.....)))........\n",
      "GTTTGCAGCGTAGCGGCAGT: \tthre_by_stru\t ...(((.((...)).)))..\n",
      "GTGTCCAACAGGGGGACAAC: \tthre_by_G\n",
      "GAATTCAACAGCCACCAGCA: \tthre_by_dif\n",
      "ACAATGCCCTTATTGTATGT: \tthre_by_stru\t (((((......)))))....\n",
      "AGTGAGTTACCCTTAACTCT: \tthre_by_stru\t ...((((((....)))))).\n",
      "ACATTAAACAAGGTAAGCAT: \tthre_by_dif\n",
      "CTTGAGGCCCTAGGTCTCAG: \tthre_by_stru\t ..((((.((...)).)))).\n",
      "CCGGAATGGACGTCCATGTC: \tthre_by_stru\t ((.....))...........\n",
      "CGGGGGCGGGTCGCGGCGAC: \tthre_by_G\n",
      "GGCAAACAGGCCATGGCGAT: \tthre_by_stru\t (((......)))........\n",
      "32 seqs remained\n"
     ]
    }
   ],
   "source": [
    "seq_list = random_seq_list()\n",
    "\n",
    "seq_list_export = []\n",
    "for seq in seq_list:\n",
    "    seq = seq.upper()\n",
    "\n",
    "    # GGGGG\n",
    "    if \"GGGGG\" in seq:\n",
    "        print(f\"{seq}: \\tthre_by_G\")\n",
    "        continue\n",
    "\n",
    "    # dif\n",
    "    dif = True\n",
    "    for tmp_seq in seq_list_export:\n",
    "        if hum_dis(tmp_seq, seq) < 10:\n",
    "            dif = False\n",
    "            print(f\"{seq}: \\tthre_by_dif\")\n",
    "    if not dif:\n",
    "        continue\n",
    "\n",
    "    # secondary structure\n",
    "    mfe, structs = dna_sec_struct(seq, temp=45)\n",
    "    if mfe < 0:\n",
    "        print(f\"{seq}: \\tthre_by_stru\\t\", dot_bracket(seq, structs))\n",
    "        continue\n",
    "\n",
    "    seq_list_export.append(seq)\n",
    "\n",
    "print(f'{len(seq_list_export)} seqs remained')"
   ]
  },
  {
   "cell_type": "code",
   "execution_count": 56,
   "metadata": {},
   "outputs": [],
   "source": [
    "with open(\"./random_seq_filtered.txt\", \"w\") as f:\n",
    "    for _ in range(len(seq_list_export)):\n",
    "        f.write(f'>seq{_}\\n' + seq_list_export[_] + \"\\n\")"
   ]
  },
  {
   "cell_type": "code",
   "execution_count": 106,
   "metadata": {},
   "outputs": [],
   "source": [
    "pos = thre_by_blast(file='./JXAKR9US016-Alignment.xml', thre=18)"
   ]
  },
  {
   "cell_type": "code",
   "execution_count": 90,
   "metadata": {},
   "outputs": [],
   "source": [
    "with open(\"./random_seq_filtered.txt\", \"w\") as f:\n",
    "    cont = 0\n",
    "    for _ in range(len(seq_list_export)):\n",
    "        if pos[_]:\n",
    "            f.write(f\">seq{cont}\\n\" + seq_list_export[_] + \"\\n\")\n",
    "            cont += 1"
   ]
  }
 ],
 "metadata": {
  "kernelspec": {
   "display_name": "probe_designer",
   "language": "python",
   "name": "python3"
  },
  "language_info": {
   "codemirror_mode": {
    "name": "ipython",
    "version": 3
   },
   "file_extension": ".py",
   "mimetype": "text/x-python",
   "name": "python",
   "nbconvert_exporter": "python",
   "pygments_lexer": "ipython3",
   "version": "3.10.11"
  }
 },
 "nbformat": 4,
 "nbformat_minor": 2
}
