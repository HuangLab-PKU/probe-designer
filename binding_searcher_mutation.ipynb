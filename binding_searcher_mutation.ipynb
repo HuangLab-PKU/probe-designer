{
 "cells": [
  {
   "cell_type": "code",
   "execution_count": 137,
   "metadata": {},
   "outputs": [],
   "source": [
    "import os\n",
    "import numpy as np\n",
    "import pandas as pd\n",
    "from tqdm import tqdm\n",
    "from pprint import pprint\n",
    "\n",
    "\n",
    "workdir = r\"./dataset/2023.11.20_mutation\"\n",
    "info = pd.read_excel(os.path.join(workdir, \"selected_mutation_list_SJT002HCC.xlsx\"))"
   ]
  },
  {
   "cell_type": "markdown",
   "metadata": {},
   "source": [
    "## get seq from ensembl"
   ]
  },
  {
   "cell_type": "code",
   "execution_count": 138,
   "metadata": {},
   "outputs": [],
   "source": [
    "import requests\n",
    "from Bio.SeqUtils import MeltingTemp as mt\n",
    "\n",
    "\n",
    "def padlock_thre(Tm_left, Tm_right, left, right, Tm_dif_thre=10, Tm_sing_thre=45, bind_sing_thre=10):\n",
    "    flag = False\n",
    "    if abs(Tm_left - Tm_right) < Tm_dif_thre:\n",
    "        if Tm_left > Tm_sing_thre:\n",
    "            if Tm_right > Tm_sing_thre:\n",
    "                flag = True\n",
    "            else:\n",
    "                right += 1\n",
    "        else:\n",
    "            left += 1\n",
    "    elif Tm_left > Tm_right:\n",
    "        left -= 1\n",
    "        right += 1\n",
    "        if left <= bind_sing_thre:\n",
    "            flag = True\n",
    "    else:\n",
    "        left += 1\n",
    "        right -= 1\n",
    "        if right <= bind_sing_thre:\n",
    "            flag = True\n",
    "    return left, right, flag\n",
    "\n",
    "\n",
    "def fetch_and_label_sequences(positions, gap=50, strand=1, left_length=20, right_length=20, Tm_dif_thre=10,Tm_sing_thre=45, bind_sing_thre=10):\n",
    "    # Ensembl REST API URL for GRCh37 batch sequence fetching\n",
    "    server = \"https://rest.ensembl.org\"\n",
    "    sequences_info = []\n",
    "    coord_system_version = \"GRCh37\"\n",
    "\n",
    "    for position in tqdm(positions):\n",
    "        left = left_length\n",
    "        right = right_length\n",
    "        # Adjust start and end for the extra 50 base pairs\n",
    "        chromosome = position[\"chr\"].replace(\"chr\", \"\")\n",
    "        adjusted_start = int(position[\"start\"])  # Ensure start is not less than 1\n",
    "        adjusted_end = int(position[\"end\"])\n",
    "        ext = f\"/sequence/region/human/{chromosome}:{adjusted_start}..{adjusted_end}:{strand}?\"\n",
    "\n",
    "        options = \";\".join([\n",
    "                # 'content-type=text/x-fasta',\n",
    "                \"content-type=application/json\",\n",
    "                f\"coord_system_version={coord_system_version}\",\n",
    "                f\"expand_3prime={gap}\",\n",
    "                f\"expand_5prime={gap}\",\n",
    "            ])\n",
    "\n",
    "        response = requests.get(server + ext + options)\n",
    "\n",
    "        if response.ok:\n",
    "            decoder = response.json()\n",
    "            seq = decoder[\"seq\"]\n",
    "            while True:\n",
    "                binding_left = seq[gap + 1 + adjusted_end-adjusted_start - left: gap + 1 + adjusted_end-adjusted_start]\n",
    "                binding_right = seq[-gap : -gap + right]\n",
    "                Tm_left = mt.Tm_NN(binding_left, nn_table=mt.R_DNA_NN1)\n",
    "                Tm_right = mt.Tm_NN(binding_right, nn_table=mt.R_DNA_NN1)\n",
    "                left, right, flag = padlock_thre(Tm_left, Tm_right, left, right, \n",
    "                                                 Tm_dif_thre=Tm_dif_thre, Tm_sing_thre=Tm_sing_thre, \n",
    "                                                 bind_sing_thre=bind_sing_thre)\n",
    "                if flag:\n",
    "                    break\n",
    "                \n",
    "            decoder['gene'] = position['gene']\n",
    "            decoder[\"binding_left\"] = binding_left\n",
    "            decoder[\"Tm_left\"] = Tm_left\n",
    "            decoder[\"binding_right\"] = binding_right\n",
    "            decoder[\"Tm_right\"] = Tm_right\n",
    "            sequences_info.append(decoder)\n",
    "        else:\n",
    "            response.raise_for_status()\n",
    "\n",
    "    return sequences_info"
   ]
  },
  {
   "cell_type": "code",
   "execution_count": 139,
   "metadata": {},
   "outputs": [
    {
     "name": "stderr",
     "output_type": "stream",
     "text": [
      "  0%|          | 0/61 [00:00<?, ?it/s]"
     ]
    },
    {
     "name": "stderr",
     "output_type": "stream",
     "text": [
      "100%|██████████| 61/61 [01:28<00:00,  1.46s/it]\n"
     ]
    }
   ],
   "source": [
    "# Example usage\n",
    "positions = [\n",
    "    {\n",
    "        \"gene\": info.loc[line, \"Gene.refGene\"],\n",
    "        \"chr\": info.loc[line, \"Chr\"],\n",
    "        \"start\": info.loc[line, \"Start\"],\n",
    "        \"end\": info.loc[line, \"End\"],\n",
    "    }\n",
    "    for line in info.index\n",
    "]\n",
    "\n",
    "gap = 50\n",
    "sequences = fetch_and_label_sequences(positions, gap=gap, strand=1)"
   ]
  },
  {
   "cell_type": "markdown",
   "metadata": {},
   "source": [
    "## perform mutation "
   ]
  },
  {
   "cell_type": "code",
   "execution_count": 140,
   "metadata": {},
   "outputs": [],
   "source": [
    "from Bio.SeqUtils import MeltingTemp as mt\n",
    "\n",
    "\n",
    "def binding_mutation(mutation, seq, adjusted_start, adjusted_end, left, right):\n",
    "    if mutation[\"ref\"] == \"-\":\n",
    "        mut_seq = seq[:adjusted_end] + mutation[\"alt\"] + seq[adjusted_end:]\n",
    "        add = len(mutation[\"alt\"])\n",
    "        if add < left:\n",
    "            binding_left = seq[:adjusted_end][add - left :] + mutation[\"alt\"]\n",
    "        else:\n",
    "            binding_left = mutation[\"alt\"][-left:]\n",
    "        binding_right = seq[adjusted_end:][:right]\n",
    "\n",
    "    elif mutation[\"alt\"] == \"-\":\n",
    "        mut_seq = seq[:adjusted_start] + seq[adjusted_end:]\n",
    "        binding_left = seq[:adjusted_start][-left:]\n",
    "        binding_right = seq[adjusted_end:][:right]\n",
    "\n",
    "    else:\n",
    "        mut_seq = seq[:adjusted_start] + mutation[\"alt\"] + seq[adjusted_end:]\n",
    "        add = len(mutation[\"alt\"])\n",
    "        if add < left:\n",
    "            binding_left = seq[:adjusted_start][add - left :] + mutation[\"alt\"]\n",
    "        else:\n",
    "            binding_left = mutation[\"alt\"][-left:]\n",
    "        binding_right = seq[adjusted_end:][:right]\n",
    "    return mut_seq, binding_left, binding_right\n",
    "\n",
    "\n",
    "def perform_mutation(\n",
    "    positions,\n",
    "    mutations,\n",
    "    sequences,\n",
    "    gap=50,\n",
    "    left_length=20,\n",
    "    right_length=20,\n",
    "    Tm_thre=45, \n",
    "    Tm_dif_thre=10,\n",
    "    bind_single_thre=10,\n",
    "):\n",
    "    mutation_seqs = []\n",
    "    for _ in range(len(mutations)):\n",
    "        position = positions[_]\n",
    "        mutation = mutations[_]\n",
    "        sequence = sequences[_]\n",
    "        left, right = left_length, right_length\n",
    "\n",
    "        adjusted_start = gap  # Ensure start is not less than 1\n",
    "        adjusted_end = int(position[\"end\"] - position[\"start\"] + gap + 1)\n",
    "        seq = sequence[\"seq\"]\n",
    "\n",
    "        while True:\n",
    "            mut_seq, binding_left, binding_right = binding_mutation(\n",
    "                mutation, seq, adjusted_start, adjusted_end, left, right\n",
    "            )\n",
    "            Tm_left = mt.Tm_NN(binding_left, nn_table=mt.R_DNA_NN1)\n",
    "            Tm_right = mt.Tm_NN(binding_right, nn_table=mt.R_DNA_NN1)\n",
    "            left, right, flag = padlock_thre(Tm_left, Tm_right, left, right, \n",
    "                                             Tm_dif_thre=Tm_dif_thre, Tm_sing_thre=Tm_thre, \n",
    "                                             bind_sing_thre=bind_single_thre)\n",
    "            if flag:\n",
    "                break\n",
    "\n",
    "        mutation_seq_info = {\n",
    "            \"gene\": sequence[\"gene\"],\n",
    "            \"id\": sequence[\"id\"],\n",
    "            \"molecule\": sequence[\"molecule\"],\n",
    "            \"seq\": mut_seq,\n",
    "            \"binding_left\": binding_left,\n",
    "            \"Tm_left\": Tm_left,\n",
    "            \"binding_right\": binding_right,\n",
    "            \"Tm_right\": Tm_right,\n",
    "        }\n",
    "\n",
    "        mutation_seqs.append(mutation_seq_info)\n",
    "\n",
    "    return mutation_seqs"
   ]
  },
  {
   "cell_type": "code",
   "execution_count": 141,
   "metadata": {},
   "outputs": [],
   "source": [
    "mutations = [\n",
    "    {\n",
    "        \"ref\": info.loc[line, \"Ref\"],\n",
    "        \"alt\": info.loc[line, \"Alt\"],\n",
    "    }\n",
    "    for line in info.index\n",
    "]\n",
    "\n",
    "mut_sequences = perform_mutation(\n",
    "    positions=positions, mutations=mutations, sequences=sequences, gap=50\n",
    ")"
   ]
  },
  {
   "cell_type": "markdown",
   "metadata": {},
   "source": [
    "## generate fasta file"
   ]
  },
  {
   "cell_type": "code",
   "execution_count": 146,
   "metadata": {},
   "outputs": [],
   "source": [
    "from Bio import SeqIO\n",
    "from Bio.Seq import Seq\n",
    "from Bio.SeqRecord import SeqRecord\n",
    "\n",
    "\n",
    "def generate_binding_fastq(sequences, outpath):\n",
    "    with open(outpath, \"w\") as f:\n",
    "        for sequence in sequences:\n",
    "            record = SeqRecord(\n",
    "                Seq(sequence[\"binding_left\"] + sequence[\"binding_right\"]),\n",
    "                id=sequence[\"id\"],\n",
    "                description=sequence['gene'],\n",
    "            )\n",
    "            SeqIO.write(record, f, \"fasta\")"
   ]
  },
  {
   "cell_type": "code",
   "execution_count": 147,
   "metadata": {},
   "outputs": [],
   "source": [
    "generate_binding_fastq(sequences=sequences, outpath=os.path.join(workdir, 'non-mut-binding_Tm_revised.fasta'))\n",
    "generate_binding_fastq(sequences=mut_sequences, outpath=os.path.join(workdir, 'mut-binding_Tm_revised.fasta'))"
   ]
  },
  {
   "cell_type": "markdown",
   "metadata": {},
   "source": [
    "## blast_test"
   ]
  },
  {
   "cell_type": "code",
   "execution_count": 148,
   "metadata": {},
   "outputs": [],
   "source": [
    "from Bio.Blast import NCBIXML\n",
    "from copy import deepcopy\n",
    "\n",
    "def extract_blast(sequences, blast_results):\n",
    "    sequences_tmp = deepcopy(sequences)\n",
    "    # read the id/plus-minus part/align_num\n",
    "    with open(blast_results, \"r\") as blast_output:\n",
    "        blast_records = NCBIXML.parse(blast_output)\n",
    "        for num, blast_record in enumerate(blast_records):\n",
    "            length = len(blast_record.alignments)\n",
    "            sequences_tmp[num][\"align_num\"] = length\n",
    "            sequences_tmp[num]['descrip'] = dict()\n",
    "            for i in range(length):\n",
    "                pm = blast_record.alignments[i].hsps[0].frame[1]\n",
    "                sequences_tmp[num][\"descrip\"][i+1] = (\n",
    "                    blast_record.descriptions[i].title + f\"| pm={pm}\"\n",
    "                )\n",
    "\n",
    "    return sequences_tmp"
   ]
  },
  {
   "cell_type": "code",
   "execution_count": 150,
   "metadata": {},
   "outputs": [],
   "source": [
    "sequences_with_blast = extract_blast(sequences=sequences, blast_results=os.path.join(workdir, 'non_mut_revised.xml'))\n",
    "mut_sequences_with_blast = extract_blast(sequences=mut_sequences, blast_results=os.path.join(workdir, 'mut_revised.xml'))"
   ]
  },
  {
   "cell_type": "markdown",
   "metadata": {},
   "source": [
    "## perform minus for positive combined seq"
   ]
  },
  {
   "cell_type": "code",
   "execution_count": 207,
   "metadata": {},
   "outputs": [],
   "source": [
    "def trans(seq):\n",
    "    translib = {\"A\": \"T\", \"T\": \"A\", \"C\": \"G\", \"G\": \"C\"}\n",
    "    seq_minus = \"\".join(list(reversed([translib[i] for i in seq])))\n",
    "    return seq_minus\n",
    "\n",
    "\n",
    "def specificity_judge(sequence_with_blast):\n",
    "    gene = sequence_with_blast['gene']\n",
    "    # print(gene)\n",
    "    if ';' in gene:\n",
    "        gene = list(gene.split(';'))\n",
    "    else:\n",
    "        gene = [gene]\n",
    "\n",
    "    perform_minus = False\n",
    "    specify = True\n",
    "    if len(sequence_with_blast['descrip'].values()) == 0:\n",
    "        pass\n",
    "    else:\n",
    "        for desc in sequence_with_blast['descrip'].values():\n",
    "            flag = True\n",
    "            for subgene in gene:\n",
    "                if subgene.upper() in desc.upper():\n",
    "                    flag = False\n",
    "                    pm = int(desc.split('|')[-1].split('=')[-1])\n",
    "                    if pm == 1:\n",
    "                        perform_minus = True\n",
    "            if flag:\n",
    "                specify = False\n",
    "    return perform_minus, specify\n",
    "    \n",
    "    \n",
    "def minus(sequences_with_blast, mut_sequences_with_blast):\n",
    "    sequences_final = []\n",
    "    mut_sequences_final = []\n",
    "    for _ in range(len(sequences_with_blast)):\n",
    "        seq_record = {}\n",
    "        mut_seq_record = {}\n",
    "\n",
    "        sequence_with_blast = sequences_with_blast[_]\n",
    "        mut_sequence_with_blast = mut_sequences_with_blast[_]\n",
    "\n",
    "        seq_record['gene'] = sequence_with_blast['gene']\n",
    "        mut_seq_record['gene'] = mut_sequence_with_blast['gene']\n",
    "        \n",
    "        perform_minus, seq_record['specificity'] = specificity_judge(sequence_with_blast)\n",
    "        _, mut_seq_record['specificity'] = specificity_judge(mut_sequence_with_blast)\n",
    "        \n",
    "        seq_record['perform_minus'] = perform_minus\n",
    "        mut_seq_record['perform_minus'] = perform_minus\n",
    " \n",
    "        if perform_minus:\n",
    "            seq_record['binding_left'] = trans(sequence_with_blast['binding_right'])\n",
    "            seq_record['binding_right'] = trans(sequence_with_blast['binding_left'])\n",
    "            seq_record['Tm_left'] = sequence_with_blast['Tm_right']\n",
    "            seq_record['Tm_right'] = sequence_with_blast['Tm_left']\n",
    "            seq_record['seq'] = sequence_with_blast['seq']\n",
    "            \n",
    "            mut_seq_record['binding_left'] = trans(mut_sequence_with_blast['binding_right'])\n",
    "            mut_seq_record['binding_right'] = trans(mut_sequence_with_blast['binding_left'])\n",
    "            mut_seq_record['Tm_left'] = mut_sequence_with_blast['Tm_right']\n",
    "            mut_seq_record['Tm_right'] = mut_sequence_with_blast['Tm_left']\n",
    "            mut_seq_record['seq'] = mut_sequence_with_blast['seq']\n",
    "\n",
    "        else:\n",
    "            seq_record['binding_left'] = sequence_with_blast['binding_left']\n",
    "            seq_record['binding_right'] = sequence_with_blast['binding_right']\n",
    "            seq_record['Tm_left'] = sequence_with_blast['Tm_left']\n",
    "            seq_record['Tm_right'] = sequence_with_blast['Tm_right']\n",
    "            seq_record['seq'] = sequence_with_blast['seq']\n",
    "            \n",
    "            mut_seq_record['binding_left'] = mut_sequence_with_blast['binding_left']\n",
    "            mut_seq_record['binding_right'] = mut_sequence_with_blast['binding_right']\n",
    "            mut_seq_record['Tm_left'] = mut_sequence_with_blast['Tm_left']\n",
    "            mut_seq_record['Tm_right'] = mut_sequence_with_blast['Tm_right']\n",
    "            mut_seq_record['seq'] = mut_sequence_with_blast['seq']\n",
    "            \n",
    "        sequences_final.append(seq_record)\n",
    "        mut_sequences_final.append(mut_seq_record)\n",
    "    \n",
    "    return sequences_final, mut_sequences_final"
   ]
  },
  {
   "cell_type": "code",
   "execution_count": 208,
   "metadata": {},
   "outputs": [],
   "source": [
    "sequences_final, mut_sequences_final = minus(sequences_with_blast, mut_sequences_with_blast)"
   ]
  },
  {
   "cell_type": "code",
   "execution_count": 211,
   "metadata": {},
   "outputs": [],
   "source": [
    "interest = ['gene', 'binding_left','binding_right','Tm_left','Tm_right','specificity','perform_minus', 'seq']\n",
    "\n",
    "df_dict = dict()\n",
    "for inte in interest:\n",
    "    df_dict[inte] = []\n",
    "\n",
    "for _ in range(len(sequences_final)):\n",
    "    sequence = sequences_final[_]\n",
    "    mut_sequence = mut_sequences_final[_]\n",
    "    for inte in interest:\n",
    "        if inte == 'gene':\n",
    "            df_dict[inte] += [sequence[inte], mut_sequence[inte]+'_mut']\n",
    "        else:\n",
    "            df_dict[inte] += [sequence[inte], mut_sequence[inte]]\n",
    "    "
   ]
  },
  {
   "cell_type": "code",
   "execution_count": null,
   "metadata": {},
   "outputs": [],
   "source": [
    "df = pd.DataFrame(df_dict)\n",
    "df['binding'] = df['binding_left'] + df['binding_right']\n",
    "df = df[['gene', 'binding', 'binding_left','binding_right','Tm_left','Tm_right','specificity','perform_minus', 'seq']]\n",
    "df.to_excel(os.path.join(workdir, 'binding_site.xlsx'))\n",
    "df"
   ]
  },
  {
   "cell_type": "markdown",
   "metadata": {},
   "source": [
    "## threshold by blast results"
   ]
  },
  {
   "cell_type": "code",
   "execution_count": 153,
   "metadata": {},
   "outputs": [],
   "source": [
    "def thre_by_blast(sequences, ):\n",
    "    non_specific = []\n",
    "    for sequence in sequences:\n",
    "        gene = sequence['gene']\n",
    "        descrip = sequence['descrip']\n",
    "        flag = True\n",
    "        for desc in descrip.values():\n",
    "            if gene.upper() not in desc.upper():\n",
    "                flag = False\n",
    "        if not flag:\n",
    "            non_specific.append(sequence)\n",
    "    \n",
    "    return non_specific"
   ]
  },
  {
   "cell_type": "code",
   "execution_count": null,
   "metadata": {},
   "outputs": [],
   "source": [
    "non_specific = thre_by_blast(sequences=sequences_with_blast)\n",
    "pprint(non_specific)"
   ]
  },
  {
   "cell_type": "code",
   "execution_count": null,
   "metadata": {},
   "outputs": [],
   "source": [
    "non_specific = thre_by_blast(sequences=mut_sequences_with_blast)\n",
    "pprint(non_specific)"
   ]
  }
 ],
 "metadata": {
  "kernelspec": {
   "display_name": "probe_designer",
   "language": "python",
   "name": "python3"
  },
  "language_info": {
   "codemirror_mode": {
    "name": "ipython",
    "version": 3
   },
   "file_extension": ".py",
   "mimetype": "text/x-python",
   "name": "python",
   "nbconvert_exporter": "python",
   "pygments_lexer": "ipython3",
   "version": "3.10.11"
  }
 },
 "nbformat": 4,
 "nbformat_minor": 2
}
