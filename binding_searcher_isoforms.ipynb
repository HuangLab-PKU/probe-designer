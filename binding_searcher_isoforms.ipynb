{
 "cells": [
  {
   "attachments": {},
   "cell_type": "markdown",
   "metadata": {},
   "source": [
    "# Environment\n"
   ]
  },
  {
   "cell_type": "code",
   "execution_count": 1,
   "metadata": {},
   "outputs": [],
   "source": [
    "# basci env\n",
    "import os\n",
    "import pandas as pd\n",
    "import time\n",
    "import json\n",
    "from tqdm import tqdm\n",
    "\n",
    "# data process of file from ncbi\n",
    "from Bio import SeqIO\n",
    "from Bio.Seq import Seq\n",
    "from Bio.SeqRecord import SeqRecord\n",
    "from Bio.SeqUtils import MeltingTemp as mt\n",
    "\n",
    "# # get gene data from ncbi\n",
    "# from Bio import Entrez\n",
    "\n",
    "# # blast and xml file process\n",
    "from Bio.Blast import NCBIWWW\n",
    "from Bio.Blast import NCBIXML"
   ]
  },
  {
   "cell_type": "code",
   "execution_count": 178,
   "metadata": {},
   "outputs": [],
   "source": [
    "# dir\n",
    "workdir = './dataset/2024.1.23_Sindy_Isoforms_lncRNA/'\n",
    "os.makedirs(workdir, exist_ok=True)\n",
    "\n",
    "current_time = time.localtime()\n",
    "formatted_time = time.strftime(\"%Y%m%d_%H%M%S\", current_time)\n",
    "\n",
    "output = os.path.join(workdir, 'results', formatted_time)\n",
    "pre_binding_dir = os.path.join(output, \"pre_binding\")\n",
    "os.makedirs(output, exist_ok=True)\n",
    "\n",
    "# basic variables\n",
    "gene_name_list_tosearch = \"gene_name_list_tosearch.txt\"\n",
    "pre_binding_file_suffix = \"_pre_binding.fasta\"\n",
    "total_pre_binding_file_name = \"_total.fasta\"\n",
    "\n",
    "# tmp file\n",
    "gene_name_list_file = \"lncRNA_isoforms.xlsx\"\n",
    "pre_binding_num_file = \"pre_binding_num.json\"\n",
    "blast_results_file = \"blast_results.xml\""
   ]
  },
  {
   "cell_type": "code",
   "execution_count": 183,
   "metadata": {},
   "outputs": [],
   "source": [
    "organism = 'mouse'\n",
    "gene_info = pd.read_excel(os.path.join(workdir, gene_name_list_file), sheet_name='Sheet1')\n",
    "# gene_list = list(gene_info['gene_name'].unique())\n",
    "id_list = list(gene_info['ensembl_id'])\n",
    "isoform_list = list(gene_info['isoform'])\n",
    "gene_list = [_.split('-')[0] for _ in isoform_list]"
   ]
  },
  {
   "cell_type": "markdown",
   "metadata": {},
   "source": [
    "# Binding site generate"
   ]
  },
  {
   "attachments": {},
   "cell_type": "markdown",
   "metadata": {},
   "source": [
    "## Example usage\n"
   ]
  },
  {
   "cell_type": "markdown",
   "metadata": {},
   "source": [
    "### get seq from ensembl"
   ]
  },
  {
   "cell_type": "code",
   "execution_count": 4,
   "metadata": {},
   "outputs": [],
   "source": [
    "# # example usage of requests on ensembl\n",
    "# # check lib.database_interaction for ensembl_id_to_seqs and ensembl_name_to_seqs for more details\n",
    "# import requests\n",
    "\n",
    "# species = \"human\"\n",
    "# gene = \"BRCA1\"\n",
    "# seq_type = \"cds\"\n",
    "\n",
    "# def get_seqs(gene, species, seq_type):\n",
    "#     lookup_url = f\"http://rest.ensembl.org/lookup/symbol/{species}/{gene}?content-type=application/json\"\n",
    "#     gene_id = requests.get(url=lookup_url).json()[\"id\"]\n",
    "\n",
    "#     transcripts_url = f\"http://rest.ensembl.org/overlap/id/{gene_id}?feature=transcript;content-type=application/json\"\n",
    "#     transcripts = requests.get(url=transcripts_url).json()\n",
    "\n",
    "#     # Get sequences for each transcript\n",
    "#     sequences = {}\n",
    "#     for transcript in tqdm(transcripts, desc=f'Gene_{gene}'):\n",
    "#         try:\n",
    "#             seq_name = \"_\".join([transcript[\"id\"], transcript[\"external_name\"], transcript['biotype']])\n",
    "#             seq_url = f\"http://rest.ensembl.org/sequence/id/{transcript['id']}?type={seq_type};content-type=application/json\"\n",
    "#             seq_response = requests.get(seq_url).json()\n",
    "#             sequences[seq_name] = seq_response[\"seq\"]\n",
    "#         except: continue\n",
    "\n",
    "#     return sequences\n",
    "\n",
    "# sequences = get_seqs(gene, species, seq_type)    "
   ]
  },
  {
   "cell_type": "markdown",
   "metadata": {},
   "source": [
    "### find_most_distinctive_substrings"
   ]
  },
  {
   "cell_type": "code",
   "execution_count": 5,
   "metadata": {},
   "outputs": [],
   "source": [
    "# from lib.search_binding import step_by_step\n",
    "\n",
    "\n",
    "# def calculate_optimal_alignment_similarity(sub1, sub2):\n",
    "#     max_similarity = 0\n",
    "#     for shift in range(-len(sub1) + 1, len(sub1)):\n",
    "#         shifted_similarity = sum((sub1[i] == sub2[i - shift]) for i in range(len(sub1)) if 0 <= i - shift < len(sub2))\n",
    "#         max_similarity = max(max_similarity, shifted_similarity)\n",
    "#     return max_similarity\n",
    "\n",
    "# def find_most_distinctive_substrings(sequences_dict, substring_length=40, top_n=10):\n",
    "#     if any(len(seq) < substring_length for seq in sequences_dict.values()):\n",
    "#         raise ValueError(\"One or more sequences are shorter than the specified substring length.\")\n",
    "    \n",
    "#     all_substrings = {}\n",
    "#     for name, seq in sequences_dict.items():\n",
    "#         _, _, selected_substrings, _ = step_by_step(\n",
    "#         seq,\n",
    "#         BDS_len=40,\n",
    "#         BDS_num=50,\n",
    "#         min_gap=1,\n",
    "#         better_gap=40,\n",
    "#         gene=name,\n",
    "#         G_min=0.25,\n",
    "#         G_max=0.7,\n",
    "#         G_consecutive=5,\n",
    "#         Tm_low=50,\n",
    "#         Tm_high=65,\n",
    "#         show_process=False, \n",
    "#         warn=False\n",
    "#         )\n",
    "        \n",
    "#         all_substrings[name] = selected_substrings\n",
    "\n",
    "#     top_substrings = {}\n",
    "#     for name, substrings in all_substrings.items():\n",
    "#         distinctiveness_scores = {}\n",
    "#         for sub in tqdm(substrings, desc=name):\n",
    "#             distinctiveness_scores[sub] = min(calculate_optimal_alignment_similarity(sub, other_sub)\n",
    "#                                               for other_name, other_substrings in all_substrings.items()\n",
    "#                                               if other_name != name\n",
    "#                                               for other_sub in other_substrings)\n",
    "\n",
    "#         top_n_substrings = sorted(distinctiveness_scores, key=distinctiveness_scores.get)[:top_n]\n",
    "#         top_substrings[name] = top_n_substrings\n",
    "\n",
    "#     return top_substrings\n",
    "\n",
    "# distinctive_substrings = find_most_distinctive_substrings(sequences, substring_length=40)\n"
   ]
  },
  {
   "cell_type": "markdown",
   "metadata": {},
   "source": [
    "## Get sequences from ensembl dataset\n"
   ]
  },
  {
   "cell_type": "code",
   "execution_count": 185,
   "metadata": {},
   "outputs": [
    {
     "name": "stderr",
     "output_type": "stream",
     "text": [
      "Gene:\tGm16024: 100%|██████████| 7/7 [00:04<00:00,  1.43it/s]\n",
      "Gene:\tGm47551: 100%|██████████| 9/9 [00:09<00:00,  1.06s/it]\n",
      "Gene:\tGm26822: 100%|██████████| 1/1 [00:00<00:00,  1.40it/s]\n",
      "Gene:\tMalat1: 100%|██████████| 23/23 [00:12<00:00,  1.91it/s]\n",
      "Gene:\tMalat1: 100%|██████████| 23/23 [00:11<00:00,  2.04it/s]\n",
      "Gene:\tGm48610: 100%|██████████| 1/1 [00:00<00:00,  1.77it/s]\n",
      "Gene:\tGm47777: 100%|██████████| 1/1 [00:00<00:00,  1.55it/s]\n",
      "Gene:\tMalat1: 100%|██████████| 23/23 [00:11<00:00,  2.06it/s]\n",
      "Gene:\tGm43994: 100%|██████████| 1/1 [00:00<00:00,  1.79it/s]\n",
      "Gene:\tGm45892: 100%|██████████| 7/7 [00:06<00:00,  1.06it/s]\n",
      "Gene:\tGm12976: 100%|██████████| 2/2 [00:01<00:00,  1.70it/s]\n",
      "Gene:\tGm47408: 100%|██████████| 4/4 [00:06<00:00,  1.64s/it]\n",
      "Gene:\tGm28625: 100%|██████████| 1/1 [00:00<00:00,  1.82it/s]\n",
      "Gene:\tGm47106: 100%|██████████| 10/10 [00:06<00:00,  1.60it/s]\n",
      "Gene:\tGm35082: 100%|██████████| 2/2 [00:01<00:00,  1.77it/s]\n",
      "Gene:\t4930572G02Rik: 100%|██████████| 7/7 [00:05<00:00,  1.31it/s]\n",
      "Gene:\tGm27000: 100%|██████████| 3/3 [00:01<00:00,  1.89it/s]\n",
      "Gene:\tGm47403: 100%|██████████| 1/1 [00:00<00:00,  1.78it/s]\n",
      "Gene:\tGm12953: 100%|██████████| 2/2 [00:01<00:00,  1.67it/s]\n",
      "Gene:\tAY512931: 100%|██████████| 2/2 [00:01<00:00,  1.87it/s]\n",
      "Gene:\tGm21917: 100%|██████████| 6/6 [00:04<00:00,  1.49it/s]\n",
      "Gene:\tGm48278: 100%|██████████| 3/3 [00:04<00:00,  1.60s/it]\n",
      "Gene:\tGm47013: 100%|██████████| 1/1 [00:00<00:00,  1.23it/s]\n",
      "Gene:\tGm11373: 100%|██████████| 1/1 [00:00<00:00,  1.67it/s]\n",
      "Gene:\t2900045O20Rik: 100%|██████████| 1/1 [00:00<00:00,  2.04it/s]\n"
     ]
    }
   ],
   "source": [
    "from lib.database_interaction import ensembl_name_to_seqs\n",
    "\n",
    "\n",
    "sequences_of_all = dict()\n",
    "skip, trial = 0, 0\n",
    "while True:\n",
    "    if skip == len(gene_list): break\n",
    "    if trial > 3:\n",
    "        skip += 1\n",
    "        trial = 0\n",
    "    try:\n",
    "        tmp_gene_list = gene_list[skip:]\n",
    "        tmp_id_list = id_list[skip:]\n",
    "        for id, gene in zip(tmp_id_list, tmp_gene_list):\n",
    "            sequences_of_all[gene] = ensembl_name_to_seqs(gene=gene, species='mouse', seq_type='')\n",
    "            skip += 1\n",
    "    except: \n",
    "        trial += 1\n",
    "        time.sleep(3)"
   ]
  },
  {
   "cell_type": "code",
   "execution_count": 186,
   "metadata": {},
   "outputs": [],
   "source": [
    "with open(os.path.join(output, 'sequence_of_all.json'), 'w') as file: json.dump(sequences_of_all, file)"
   ]
  },
  {
   "cell_type": "markdown",
   "metadata": {},
   "source": [
    "### check"
   ]
  },
  {
   "cell_type": "code",
   "execution_count": 188,
   "metadata": {},
   "outputs": [
    {
     "name": "stdout",
     "output_type": "stream",
     "text": [
      "Genes_not_found: \n",
      "Isoforms_not_found: Gm11032-201, Gm10563-201, AC158554.1-201, Gm17555-201, AC125141.1-201, Gm21750-201, A230050P20Rik-204, Gm17571-201, Gm26945-201, Gm42418-201, Gm26917-202, AY036118-201\n"
     ]
    }
   ],
   "source": [
    "nothing_found = []\n",
    "isoform_not_found = []\n",
    "sequences_of_all_filtered = dict()\n",
    "\n",
    "for gene, isoforms in sequences_of_all.items():\n",
    "    sequences_of_all_filtered[gene] = []\n",
    "    for isoform in isoforms:\n",
    "        if gene in isoform['external_name']:\n",
    "            sequences_of_all_filtered[gene].append(isoform)\n",
    "\n",
    "all_isoform = []\n",
    "for gene, isoforms in sequences_of_all_filtered.items():\n",
    "    if len(isoforms) < 1:\n",
    "        nothing_found.append(gene)\n",
    "    all_isoform += [_['external_name'] for _ in isoforms]\n",
    "\n",
    "isoform_not_found = [_ for _ in isoform_list if _ not in all_isoform]\n",
    "print('Genes_not_found: {}'.format(', '.join(nothing_found)))\n",
    "print('Isoforms_not_found: {}'.format(', '.join(isoform_not_found)))"
   ]
  },
  {
   "cell_type": "code",
   "execution_count": 202,
   "metadata": {},
   "outputs": [
    {
     "data": {
      "text/plain": [
       "['Gm11032-201',\n",
       " 'Gm10563-201',\n",
       " 'AC158554.1-201',\n",
       " 'Gm17555-201',\n",
       " 'AC125141.1-201',\n",
       " 'Gm21750-201',\n",
       " 'A230050P20Rik-204',\n",
       " 'Gm17571-201',\n",
       " 'Gm26945-201',\n",
       " 'Gm42418-201',\n",
       " 'Gm26917-202',\n",
       " 'AY036118-201']"
      ]
     },
     "execution_count": 202,
     "metadata": {},
     "output_type": "execute_result"
    }
   ],
   "source": [
    "isoform_not_found"
   ]
  },
  {
   "cell_type": "markdown",
   "metadata": {},
   "source": [
    "## Find potential bds for interested isoform"
   ]
  },
  {
   "cell_type": "code",
   "execution_count": 192,
   "metadata": {},
   "outputs": [],
   "source": [
    "isoform_interested = []\n",
    "for gene, isoforms in sequences_of_all.items():\n",
    "    for isoform in isoforms:\n",
    "        if isoform['external_name'] in isoform_list:\n",
    "            isoform['parent_name'] = gene\n",
    "            isoform_interested.append(isoform)"
   ]
  },
  {
   "cell_type": "code",
   "execution_count": 193,
   "metadata": {},
   "outputs": [
    {
     "name": "stderr",
     "output_type": "stream",
     "text": [
      "Find potential bds for isoforms: 100%|██████████| 25/25 [00:03<00:00,  6.54it/s]\n"
     ]
    }
   ],
   "source": [
    "from lib.search_binding import step_by_step\n",
    "\n",
    "\n",
    "for isoform in tqdm(isoform_interested, 'Find potential bds for isoforms'):\n",
    "    Tm_l, Tm_r, selected_substrings, positions = step_by_step(\n",
    "    sequence=isoform['seq'], gene=isoform['parent_name'],\n",
    "    BDS_len=40, BDS_num=50, min_gap=1, better_gap=40,\n",
    "    G_min=0.25, G_max=0.7, G_consecutive=5, Tm_low=50, Tm_high=65,\n",
    "    show_process=False,  warn=False)\n",
    "    \n",
    "    isoform['potential_bds'] = []\n",
    "    for Tm_l_one, Tm_r_one, substring, position in zip(Tm_l, Tm_r, selected_substrings, positions):\n",
    "        isoform['potential_bds'].append({\n",
    "            'seq': substring, 'position': position,\n",
    "             \n",
    "            'Tm_l': Tm_l_one, 'Tm_r': Tm_r_one})"
   ]
  },
  {
   "cell_type": "markdown",
   "metadata": {},
   "source": [
    "## Find specific binding site for each isoform"
   ]
  },
  {
   "cell_type": "code",
   "execution_count": 194,
   "metadata": {},
   "outputs": [],
   "source": [
    "from lib.search_binding import seq_minus\n",
    "\n",
    "def calculate_optimal_alignment_similarity(sub1, sub2):\n",
    "    max_similarity = 0\n",
    "    for shift in range(-len(sub1) + 1, len(sub1)):\n",
    "        shifted_similarity = sum((sub1[i] == sub2[i - shift]) for i in range(len(sub1)) if 0 <= i - shift < len(sub2))\n",
    "        max_similarity = max(max_similarity, shifted_similarity)\n",
    "    return max_similarity"
   ]
  },
  {
   "cell_type": "code",
   "execution_count": 195,
   "metadata": {},
   "outputs": [
    {
     "name": "stderr",
     "output_type": "stream",
     "text": [
      "Calculating similarity: 100%|██████████| 25/25 [00:03<00:00,  7.55it/s]\n"
     ]
    }
   ],
   "source": [
    "for isoform in tqdm(isoform_interested, desc='Calculating similarity'):\n",
    "    isoform_name = isoform['external_name']\n",
    "    parent_name = isoform['parent_name']\n",
    "    ref_isoforms = [isoform_ref['seq'] for isoform_ref in sequences_of_all[parent_name] if isoform_ref['external_name'] != isoform_name]\n",
    "    for potential_bds in isoform['potential_bds']:\n",
    "        try: potential_bds['similarity'] = max([calculate_optimal_alignment_similarity(potential_bds['seq'], ref_seq) for ref_seq in ref_isoforms])\n",
    "        except ValueError: potential_bds['similarity'] = 0\n",
    "        potential_bds['seq'] = seq_minus(potential_bds['seq'])\n",
    "\n",
    "with open(os.path.join(output, 'isoform_interested.json'), 'w') as file: json.dump(isoform_interested, file)"
   ]
  },
  {
   "cell_type": "markdown",
   "metadata": {},
   "source": [
    "## Save binding site to fasta file"
   ]
  },
  {
   "cell_type": "code",
   "execution_count": 196,
   "metadata": {},
   "outputs": [],
   "source": [
    "# Search binding sites on mRNA sequence\n",
    "os.makedirs(os.path.join(output, 'potential_bds'), exist_ok=True)\n",
    "with open(os.path.join(output, \"potential_bds.fasta\"), \"w\") as handle: handle.write(\"\")\n",
    "\n",
    "for isoform in isoform_interested:\n",
    "    record_list = []\n",
    "    for potential_bds in isoform['potential_bds']:\n",
    "        record_list.append(SeqRecord(Seq(potential_bds['seq']), id=isoform['id'], name=isoform['external_name'], \n",
    "                                     description='|'.join([isoform['feature_type'], isoform['biotype']])))\n",
    "\n",
    "    # write pre_binding to files\n",
    "    with open(os.path.join(output, 'potential_bds', f\"{isoform['external_name']}_potential_bds.fasta\"), \"w\") as f:\n",
    "        for new_record in record_list:\n",
    "            SeqIO.write(new_record, f, \"fasta\")\n",
    "            \n",
    "    with open(os.path.join(output, \"potential_bds.fasta\"), \"a\") as handle:\n",
    "        for new_record in record_list:\n",
    "            SeqIO.write(new_record, handle, \"fasta\")"
   ]
  },
  {
   "attachments": {},
   "cell_type": "markdown",
   "metadata": {},
   "source": [
    "# Blast and extract blast results"
   ]
  },
  {
   "cell_type": "code",
   "execution_count": null,
   "metadata": {},
   "outputs": [],
   "source": [
    "# with open(file_out_dir + total_pre_binding_file_name, \"r\") as f:\n",
    "#     fasta_string = f.read()\n",
    "# txid = [2697049]  # organism\n",
    "\n",
    "# # Submit BLAST search and get handle object\n",
    "# handle = NCBIWWW.qblast(\n",
    "#     program=\"blastn\",\n",
    "#     megablast=\"yes\",\n",
    "#     database=\"refseq_rna\",\n",
    "#     sequence=fasta_string,\n",
    "#     url_base=\"https://blast.ncbi.nlm.nih.gov/Blast.cgi\",\n",
    "#     format_object=\"Alignment\",\n",
    "#     format_type=\"Xml\",\n",
    "# )\n",
    "\n",
    "# # read handle object and save to a file\n",
    "# with open(tmp + blast_results_file, \"w\") as f:\n",
    "#     f.write(handle.read())"
   ]
  },
  {
   "cell_type": "code",
   "execution_count": 197,
   "metadata": {},
   "outputs": [],
   "source": [
    "from Bio.Blast import NCBIXML\n",
    "\n",
    "\n",
    "def extract_blast_record(bds_info, blast_record):\n",
    "    length = len(blast_record.alignments)\n",
    "    bds_info[\"align_num\"] = length\n",
    "    bds_info['descrip'] = dict()\n",
    "    for i in range(length):\n",
    "        pm = blast_record.alignments[i].hsps[0].frame[1]\n",
    "        bds_info[\"descrip\"][i+1] = (blast_record.descriptions[i].title + f\"|pm={pm}\")"
   ]
  },
  {
   "cell_type": "code",
   "execution_count": 199,
   "metadata": {},
   "outputs": [],
   "source": [
    "with open(os.path.join(output, 'blast_results.xml'), \"r\") as blast_output:\n",
    "    blast_records = NCBIXML.parse(blast_output)\n",
    "    blast_records_list = [_ for _ in blast_records]\n",
    "    \n",
    "    skip = 0\n",
    "    for _, isoform in enumerate(isoform_interested):    \n",
    "        bds_num = len(isoform['potential_bds'])\n",
    "        for bds_order in range(bds_num):\n",
    "            blast_record = blast_records_list[skip+bds_order]\n",
    "            extract_blast_record(isoform['potential_bds'][bds_order], blast_record)\n",
    "        skip += bds_num"
   ]
  },
  {
   "attachments": {},
   "cell_type": "markdown",
   "metadata": {},
   "source": [
    "# Filter wanted binding site\n"
   ]
  },
  {
   "cell_type": "code",
   "execution_count": 200,
   "metadata": {},
   "outputs": [],
   "source": [
    "import re\n",
    "from copy import deepcopy\n",
    "\n",
    "pattern = r\"transcript variant (\\w+)\"\n",
    "def filter_bds_specificity(bds_info, gene):\n",
    "    align = bds_info['descrip']\n",
    "    variant = []\n",
    "    for item in align.values():\n",
    "        variant += re.findall(pattern, item)\n",
    "        if gene.upper() not in item.upper():\n",
    "            return False\n",
    "    if len(set(variant)) > 1: return False\n",
    "    else: return True\n",
    "\n",
    "isoform_interested_select = deepcopy(isoform_interested)\n",
    "for isoform in isoform_interested_select:\n",
    "    gene = isoform['parent_name']\n",
    "    isoform['potential_bds'] = [item for item in isoform['potential_bds'] \n",
    "                                if filter_bds_specificity(item, gene)]\n",
    "\n",
    "with open(os.path.join(output, 'isoform_interested_specific.json'), 'w') as file: json.dump(isoform_interested_select, file)"
   ]
  },
  {
   "cell_type": "markdown",
   "metadata": {},
   "source": [
    "# Export as xlsx"
   ]
  },
  {
   "cell_type": "code",
   "execution_count": 201,
   "metadata": {},
   "outputs": [
    {
     "name": "stdout",
     "output_type": "stream",
     "text": [
      "Gene : \tNo valid positions, please loosen your threshold conditions.\n",
      "Gene : \tNot enough pos for 3 binding sites.\n",
      "Gene : \tcondition too harsh, loose to get better results\n",
      "[539, 540, 541]\n",
      "Gene : \tNo valid positions, please loosen your threshold conditions.\n",
      "Gene : \tNot enough pos for 3 binding sites.\n",
      "Gene : \tcondition too harsh, loose to get better results\n",
      "[41, 44, 53, 54, 55, 56]\n",
      "Gene : \tNot enough pos for 3 binding sites.\n",
      "Gene : \tcondition too harsh, loose to get better results\n",
      "[135, 139, 144, 147, 631, 634]\n",
      "Gene : \tNo valid positions, please loosen your threshold conditions.\n",
      "Gene : \tNot enough pos for 3 binding sites.\n",
      "Gene : \tcondition too harsh, loose to get better results\n",
      "[169]\n"
     ]
    },
    {
     "name": "stderr",
     "output_type": "stream",
     "text": [
      "C:\\Users\\Mingchuan\\AppData\\Local\\Temp\\ipykernel_31792\\2724541571.py:18: FutureWarning: The behavior of DataFrame concatenation with empty or all-NA entries is deprecated. In a future version, this will no longer exclude empty or all-NA columns when determining the result dtypes. To retain the old behavior, exclude the relevant entries before the concat operation.\n",
      "  bds_df = pd.concat([bds_df, add])\n"
     ]
    }
   ],
   "source": [
    "from lib.search_binding import find_max_min_difference_fixed_length_subsequence as find_pos\n",
    "\n",
    "\n",
    "bds_df = pd.DataFrame(columns=['accession', 'gene_name', 'mol_type', 'organism',\n",
    "                            'pos_on_seq', 'binding', 'Tm_l', 'Tm_r', 'wanted', 'align_num', 'align_accession', 'align_descrip', 'plus/minus'])\n",
    "for isoform in isoform_interested_select:\n",
    "    bds_position = [potential_bds['position'] for potential_bds in isoform['potential_bds']]\n",
    "    select_position = find_pos(arr=bds_position, length=3, min_gap=40)\n",
    "    for potential_bds in [_ for _ in isoform['potential_bds'] if _['position'] in select_position]:\n",
    "        add = pd.DataFrame({\n",
    "            'accession': [isoform['id']], 'gene_name': [isoform['external_name']], 'mol_type': [isoform['feature_type']], 'organism': ['mouse'],\n",
    "            'pos_on_seq': [potential_bds['position']], 'binding': [potential_bds['seq']], 'Tm_l': [potential_bds['Tm_l']], 'Tm_r': [potential_bds['Tm_r']], 'wanted': [True], \n",
    "            'align_num': [potential_bds['align_num']], \n",
    "            'align_accession': [\"|\".join([_.split('|')[3] for _ in potential_bds['descrip'].values()])], \n",
    "            'align_descrip': [\"|\".join([_.split('|')[4] for _ in potential_bds['descrip'].values()])], \n",
    "            'plus/minus': [\"|\".join([_.split('|')[5] for _ in potential_bds['descrip'].values()])],\n",
    "        })\n",
    "        bds_df = pd.concat([bds_df, add])\n",
    "bds_df.index = [_ for _ in range(len(bds_df))]\n",
    "bds_df.to_excel(os.path.join(output, 'probes_wanted.xlsx'))"
   ]
  }
 ],
 "metadata": {
  "kernelspec": {
   "display_name": "base",
   "language": "python",
   "name": "python3"
  },
  "language_info": {
   "codemirror_mode": {
    "name": "ipython",
    "version": 3
   },
   "file_extension": ".py",
   "mimetype": "text/x-python",
   "name": "python",
   "nbconvert_exporter": "python",
   "pygments_lexer": "ipython3",
   "version": "3.10.13"
  },
  "orig_nbformat": 4
 },
 "nbformat": 4,
 "nbformat_minor": 2
}
