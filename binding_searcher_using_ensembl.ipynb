{
 "cells": [
  {
   "attachments": {},
   "cell_type": "markdown",
   "metadata": {},
   "source": [
    "# Probe Designer\n"
   ]
  },
  {
   "attachments": {},
   "cell_type": "markdown",
   "metadata": {},
   "source": [
    "## Environment\n"
   ]
  },
  {
   "cell_type": "code",
   "execution_count": 1,
   "metadata": {},
   "outputs": [],
   "source": [
    "# basci env\n",
    "import os\n",
    "import sys\n",
    "import pandas as pd\n",
    "import time\n",
    "import json\n",
    "from tqdm import tqdm\n",
    "\n",
    "# data process of file from ncbi\n",
    "from Bio import SeqIO\n",
    "from Bio.Seq import Seq\n",
    "from Bio.SeqRecord import SeqRecord\n",
    "from Bio.SeqUtils import MeltingTemp as mt\n",
    "\n",
    "# get gene data from ncbi\n",
    "from Bio import Entrez\n",
    "\n",
    "# blast and xml file process\n",
    "from Bio.Blast import NCBIWWW\n",
    "from Bio.Blast import NCBIXML\n",
    "\n",
    "# add package to sys var\n",
    "# os.chdir(os.path.dirname(os.path.abspath(__file__)))\n",
    "sys.path.append(\"../lib\")\n",
    "\n",
    "# dir\n",
    "workdir = './example_dataset'\n",
    "os.makedirs(workdir, exist_ok=True)\n",
    "\n",
    "current_time = time.localtime()\n",
    "formatted_time = time.strftime(\"%Y%m%d_%H%M%S\", current_time)\n",
    "\n",
    "output = os.path.join(workdir, 'results', formatted_time)\n",
    "pre_binding_dir = os.path.join(output, \"pre_binding\")\n",
    "os.makedirs(output, exist_ok=True)\n",
    "\n",
    "# basic variables\n",
    "gene_name_list_tosearch = \"gene_name_list_tosearch.txt\"\n",
    "pre_binding_file_suffix = \"_pre_binding.fasta\"\n",
    "total_pre_binding_file_name = \"_total.fasta\"\n",
    "\n",
    "# tmp file\n",
    "gene_name_list_file = \"immune.xlsx\"\n",
    "pre_binding_num_file = \"pre_binding_num.json\"\n",
    "blast_results_file = \"blast_results.xml\""
   ]
  },
  {
   "cell_type": "code",
   "execution_count": 2,
   "metadata": {},
   "outputs": [],
   "source": [
    "organism = 'human'"
   ]
  },
  {
   "attachments": {},
   "cell_type": "markdown",
   "metadata": {},
   "source": [
    "## Get seq from ensembl dataset"
   ]
  },
  {
   "cell_type": "code",
   "execution_count": null,
   "metadata": {},
   "outputs": [],
   "source": [
    "from lib.database_interaction import get_seqs_using_ensembl\n",
    "\n",
    "\n",
    "gene_list = pd.read_excel(os.path.join(workdir, gene_name_list_file))[\"gene_name\"].tolist()[:10]\n",
    "sequences_of_all = dict()\n",
    "for gene in gene_list:\n",
    "    sequences = get_seqs_using_ensembl(gene=gene, species=organism, seq_type='cds')\n",
    "    longest_item = max(sequences.items(), key=lambda x: len(x[1]))\n",
    "    desc, sequence = longest_item\n",
    "    sequences_of_all[desc] = sequence"
   ]
  },
  {
   "attachments": {},
   "cell_type": "markdown",
   "metadata": {},
   "source": [
    "## Binding site Searcher\n"
   ]
  },
  {
   "cell_type": "code",
   "execution_count": 12,
   "metadata": {},
   "outputs": [
    {
     "name": "stderr",
     "output_type": "stream",
     "text": [
      "position_searching_CD3D-201: 100%|██████████| 374/374 [00:00<00:00, 40430.67it/s]\n"
     ]
    },
    {
     "name": "stdout",
     "output_type": "stream",
     "text": [
      "Gene CD3D-201: \tNot enough pos for 50 binding sites.\n",
      "Gene CD3D-201: \tcondition too harsh, loose to get better results\n",
      "[0, 1, 2, 3, 5, 6, 7, 11, 12, 13, 16, 17, 18, 19, 20, 21, 22, 25, 26, 27, 37, 39, 40, 41, 42, 44, 45, 46, 47, 49, 134, 135, 136, 137, 138, 139, 140, 141, 142, 143, 144, 145, 146, 147, 148, 149, 150, 151, 152, 153, 154, 155, 156, 157, 249, 251, 252, 253, 254, 255, 256, 257, 258, 259, 260, 261, 262, 263, 264, 265, 266, 267, 281, 282, 283, 284, 285, 286, 287]\n"
     ]
    },
    {
     "name": "stderr",
     "output_type": "stream",
     "text": [
      "position_searching_CD4-201: 100%|██████████| 1063/1063 [00:00<00:00, 23295.97it/s]\n"
     ]
    },
    {
     "name": "stdout",
     "output_type": "stream",
     "text": [
      "Gene CD4-201: \tcondition too harsh, loose to get better results\n",
      "[5, 23, 30, 37, 44, 54, 64, 73, 84, 91, 219, 226, 273, 308, 315, 322, 329, 336, 343, 350, 357, 364, 371, 381, 388, 395, 402, 409, 424, 497, 610, 661, 670, 677, 684, 691, 698, 705, 718, 762, 802, 809, 820, 827, 836, 958, 966, 975, 987, 994, 1014]\n"
     ]
    },
    {
     "name": "stderr",
     "output_type": "stream",
     "text": [
      "position_searching_CD8A-201: 100%|██████████| 528/528 [00:00<00:00, 10580.14it/s]\n"
     ]
    },
    {
     "name": "stdout",
     "output_type": "stream",
     "text": [
      "Gene CD8A-201: \tcondition too harsh, loose to get better results\n",
      "[37, 41, 46, 50, 54, 71, 75, 144, 148, 152, 156, 160, 164, 169, 173, 177, 183, 189, 194, 198, 203, 209, 214, 218, 222, 226, 269, 273, 278, 282, 288, 293, 298, 302, 306, 310, 314, 318, 322, 326, 332, 336, 340, 344, 401, 405, 428, 432, 436, 448, 452, 456, 460, 464, 468, 472, 476, 480, 484, 488, 516, 520, 524]\n"
     ]
    },
    {
     "name": "stderr",
     "output_type": "stream",
     "text": [
      "position_searching_CCDC22-201: 100%|██████████| 1468/1468 [00:00<00:00, 19561.07it/s]\n"
     ]
    },
    {
     "name": "stdout",
     "output_type": "stream",
     "text": [
      "Gene CCDC22-201: \tcondition too harsh, loose to get better results\n",
      "[3, 77, 171, 194, 217, 286, 309, 335, 358, 381, 404, 427, 450, 473, 503, 527, 550, 573, 596, 622, 650, 673, 698, 721, 753, 776, 802, 859, 905, 928, 962, 985, 1037, 1060, 1083, 1106, 1129, 1171, 1194, 1222, 1245, 1268, 1291, 1320, 1343, 1369, 1392, 1417, 1441, 1465]\n"
     ]
    },
    {
     "name": "stderr",
     "output_type": "stream",
     "text": [
      "position_searching_PDCD1-201: 100%|██████████| 655/655 [00:00<00:00, 24088.08it/s]\n"
     ]
    },
    {
     "name": "stdout",
     "output_type": "stream",
     "text": [
      "Gene PDCD1-201: \tcondition too harsh, loose to get better results\n",
      "[5, 25, 31, 71, 103, 109, 115, 152, 169, 175, 181, 189, 195, 201, 207, 227, 247, 253, 259, 274, 280, 294, 304, 311, 317, 395, 402, 409, 420, 426, 440, 446, 453, 459, 465, 471, 477, 519, 526, 532, 539, 545, 551, 559, 565, 571, 579, 585, 591, 598, 604, 610, 616, 622, 630, 636]\n"
     ]
    },
    {
     "name": "stderr",
     "output_type": "stream",
     "text": [
      "position_searching_CTLA4-207: 100%|██████████| 556/556 [00:00<00:00, 25100.99it/s]\n"
     ]
    },
    {
     "name": "stdout",
     "output_type": "stream",
     "text": [
      "Gene CTLA4-207: \tcondition too harsh, loose to get better results\n",
      "[79, 94, 99, 149, 153, 157, 161, 165, 169, 173, 177, 181, 185, 189, 193, 197, 206, 210, 214, 218, 243, 263, 325, 329, 333, 338, 344, 351, 358, 362, 366, 370, 374, 378, 382, 386, 405, 425, 429, 434, 440, 444, 448, 452, 456, 520, 524, 528, 539, 543, 547, 551]\n"
     ]
    },
    {
     "name": "stderr",
     "output_type": "stream",
     "text": [
      "position_searching_CXCL13-201: 100%|██████████| 224/224 [00:00<00:00, 64969.51it/s]\n"
     ]
    },
    {
     "name": "stdout",
     "output_type": "stream",
     "text": [
      "Gene CXCL13-201: \tNot enough pos for 50 binding sites.\n",
      "Gene CXCL13-201: \tcondition too harsh, loose to get better results\n",
      "[218, 219, 220, 221, 222, 223]\n"
     ]
    },
    {
     "name": "stderr",
     "output_type": "stream",
     "text": [
      "position_searching_ENTPD1-203: 100%|██████████| 1217/1217 [00:00<00:00, 48725.35it/s]\n"
     ]
    },
    {
     "name": "stdout",
     "output_type": "stream",
     "text": [
      "Gene ENTPD1-203: \tcondition too harsh, loose to get better results\n",
      "[0, 2, 12, 14, 16, 18, 20, 22, 40, 42, 349, 360, 369, 558, 560, 562, 564, 566, 643, 664, 666, 669, 711, 716, 849, 858, 860, 862, 871, 874, 876, 878, 880, 882, 891, 894, 896, 960, 962, 964, 966, 968, 970, 980, 982, 984, 986, 988, 990, 992, 995, 999, 1001, 1003, 1005]\n"
     ]
    },
    {
     "name": "stderr",
     "output_type": "stream",
     "text": [
      "position_searching_GZMB-201: 100%|██████████| 556/556 [00:00<00:00, 38721.37it/s]\n"
     ]
    },
    {
     "name": "stdout",
     "output_type": "stream",
     "text": [
      "Gene GZMB-201: \tcondition too harsh, loose to get better results\n",
      "[19, 23, 26, 29, 166, 175, 229, 235, 238, 241, 244, 247, 255, 258, 261, 264, 267, 270, 273, 276, 279, 283, 286, 289, 293, 297, 304, 307, 310, 313, 382, 385, 406, 409, 412, 415, 418, 433, 436, 439, 442, 453, 457, 460, 463, 466, 469, 472, 479, 482, 485, 488]\n"
     ]
    },
    {
     "name": "stderr",
     "output_type": "stream",
     "text": [
      "position_searching_GZMA-201: 100%|██████████| 593/593 [00:00<00:00, 63280.05it/s]\n"
     ]
    },
    {
     "name": "stdout",
     "output_type": "stream",
     "text": [
      "Gene GZMA-201: \tNot enough pos for 50 binding sites.\n",
      "Gene GZMA-201: \tcondition too harsh, loose to get better results\n",
      "[361, 362, 363, 364, 365, 368, 369, 430, 431, 432, 433, 434, 435, 440, 441, 442, 443, 444, 445, 446, 447, 448, 449, 454, 455, 460, 477, 478]\n"
     ]
    },
    {
     "name": "stderr",
     "output_type": "stream",
     "text": [
      "position_searching_PALD1-208: 100%|██████████| 2040/2040 [00:00<00:00, 27099.88it/s]\n"
     ]
    },
    {
     "name": "stdout",
     "output_type": "stream",
     "text": [
      "Gene PALD1-208: \tcondition too harsh, loose to get better results\n",
      "[16, 47, 72, 97, 122, 257, 282, 307, 336, 361, 387, 441, 466, 492, 517, 573, 643, 710, 784, 809, 834, 865, 891, 916, 941, 971, 1052, 1163, 1235, 1260, 1312, 1340, 1367, 1424, 1461, 1486, 1511, 1536, 1561, 1592, 1644, 1669, 1695, 1736, 1765, 1862, 1887, 1912, 1937, 2014, 2039]\n"
     ]
    },
    {
     "name": "stderr",
     "output_type": "stream",
     "text": [
      "position_searching_SLC4A10-206: 100%|██████████| 2647/2647 [00:00<00:00, 54956.55it/s]\n"
     ]
    },
    {
     "name": "stdout",
     "output_type": "stream",
     "text": [
      "Gene SLC4A10-206: \tcondition too harsh, loose to get better results\n",
      "[294, 296, 314, 316, 324, 374, 376, 378, 380, 382, 384, 386, 388, 390, 392, 394, 397, 399, 401, 406, 408, 410, 572, 607, 772, 775, 980, 982, 984, 986, 1307, 1309, 1334, 1336, 1431, 1581, 1583, 1585, 1587, 1589, 1599, 1601, 1604, 1606, 1608, 1619, 1621, 1626, 1654, 1699, 1710, 1863, 1865, 1867, 1914, 1916, 2007, 2062, 2064, 2076, 2078, 2084]\n"
     ]
    },
    {
     "name": "stderr",
     "output_type": "stream",
     "text": [
      "position_searching_C1QA-206: 100%|██████████| 552/552 [00:00<00:00, 25468.12it/s]\n"
     ]
    },
    {
     "name": "stdout",
     "output_type": "stream",
     "text": [
      "Gene C1QA-206: \tcondition too harsh, loose to get better results\n",
      "[1, 37, 50, 54, 58, 63, 67, 71, 75, 79, 83, 91, 95, 99, 103, 111, 119, 123, 131, 139, 143, 147, 159, 163, 167, 181, 185, 189, 193, 201, 205, 209, 213, 217, 221, 225, 231, 237, 244, 248, 293, 299, 303, 307, 311, 315, 319, 323, 329, 336, 340, 349, 353, 357, 409, 429, 433, 449, 453, 457]\n"
     ]
    },
    {
     "name": "stderr",
     "output_type": "stream",
     "text": [
      "position_searching_IRAG1-201: 100%|██████████| 2153/2153 [00:00<00:00, 31774.69it/s]\n"
     ]
    },
    {
     "name": "stdout",
     "output_type": "stream",
     "text": [
      "Gene IRAG1-201: \tcondition too harsh, loose to get better results\n",
      "[134, 160, 229, 257, 312, 360, 386, 412, 438, 561, 587, 614, 640, 668, 759, 868, 894, 980, 1024, 1078, 1104, 1130, 1163, 1211, 1259, 1304, 1334, 1396, 1424, 1455, 1484, 1514, 1540, 1630, 1671, 1697, 1729, 1758, 1784, 1811, 1837, 1867, 1893, 1919, 1991, 2017, 2043, 2069, 2099, 2125, 2151]\n"
     ]
    },
    {
     "name": "stderr",
     "output_type": "stream",
     "text": [
      "position_searching_CPA3-201: 100%|██████████| 964/964 [00:00<00:00, 39680.74it/s]\n"
     ]
    },
    {
     "name": "stdout",
     "output_type": "stream",
     "text": [
      "Gene CPA3-201: \tNot enough pos for 50 binding sites.\n",
      "Gene CPA3-201: \tcondition too harsh, loose to get better results\n",
      "[135, 136, 137, 138, 139, 267, 268, 269, 270, 271, 273, 274, 275, 277, 278, 279, 280, 281, 284, 285, 286, 287, 288, 289, 295, 296, 299, 300, 301, 302, 303, 306, 307, 374, 563, 564, 565, 566, 567, 568, 569, 570, 571, 572, 573, 574, 577, 578, 579, 771, 772, 880, 883, 929, 930, 939, 940, 941, 942, 960, 961, 962]\n"
     ]
    },
    {
     "name": "stderr",
     "output_type": "stream",
     "text": [
      "position_searching_LILRA4-201: 100%|██████████| 1160/1160 [00:00<00:00, 25396.94it/s]\n"
     ]
    },
    {
     "name": "stdout",
     "output_type": "stream",
     "text": [
      "Gene LILRA4-201: \tcondition too harsh, loose to get better results\n",
      "[0, 14, 35, 55, 69, 83, 97, 111, 125, 139, 158, 179, 199, 273, 293, 313, 333, 353, 367, 427, 441, 459, 479, 493, 569, 589, 603, 643, 658, 672, 714, 728, 742, 798, 812, 826, 840, 854, 884, 903, 917, 931, 945, 959, 974, 1015, 1034, 1056, 1072, 1092]\n"
     ]
    },
    {
     "name": "stderr",
     "output_type": "stream",
     "text": [
      "position_searching_CLEC9A-201: 100%|██████████| 542/542 [00:00<00:00, 49300.88it/s]\n"
     ]
    },
    {
     "name": "stdout",
     "output_type": "stream",
     "text": [
      "Gene CLEC9A-201: \tNot enough pos for 50 binding sites.\n",
      "Gene CLEC9A-201: \tcondition too harsh, loose to get better results\n",
      "[6, 17, 18, 19, 24, 25, 26, 27, 28, 29, 30, 31, 32, 33, 34, 35, 36, 39, 40, 41, 42, 43, 44, 45, 46, 47, 48, 51, 52, 53, 54, 55, 56, 59, 60, 61, 62, 63, 64, 65, 66, 67, 68, 71, 72, 73, 76, 77, 78, 414, 417, 418, 419, 421, 434, 437, 438, 439, 440, 452]\n"
     ]
    },
    {
     "name": "stderr",
     "output_type": "stream",
     "text": [
      "position_searching_CD1C-201: 100%|██████████| 762/762 [00:00<00:00, 38426.65it/s]\n"
     ]
    },
    {
     "name": "stdout",
     "output_type": "stream",
     "text": [
      "Gene CD1C-201: \tNot enough pos for 50 binding sites.\n",
      "Gene CD1C-201: \tcondition too harsh, loose to get better results\n",
      "[0, 1, 2, 3, 4, 5, 6, 7, 8, 9, 10, 11, 12, 13, 14, 17, 18, 19, 20, 21, 22, 23, 34, 39, 40, 41, 42, 43, 44, 45, 46, 47, 61, 62, 63, 64, 65, 66, 70, 179, 180, 181, 183, 184, 185, 186, 187, 188, 189, 190, 198, 207, 208, 209, 210, 214, 215, 216, 217, 218, 227, 228, 229, 230, 231, 232, 233, 234, 235, 236, 237, 238, 239, 240, 241, 242, 243, 244, 246, 247, 248, 249, 250, 251, 253, 255, 256, 257, 258, 259, 260, 261, 262, 263, 264, 265, 266, 267, 268, 409, 420, 421, 422, 423, 424, 425, 431, 432, 663, 750, 751, 752, 753, 755, 756, 757]\n"
     ]
    },
    {
     "name": "stderr",
     "output_type": "stream",
     "text": [
      "position_searching_LAMP3-201: 100%|██████████| 961/961 [00:00<00:00, 17509.90it/s]\n"
     ]
    },
    {
     "name": "stdout",
     "output_type": "stream",
     "text": [
      "Gene LAMP3-201: \tcondition too harsh, loose to get better results\n",
      "[41, 51, 58, 65, 72, 87, 109, 117, 283, 290, 297, 304, 451, 458, 465, 472, 479, 487, 494, 501, 508, 515, 522, 529, 537, 544, 551, 558, 565, 612, 619, 626, 633, 640, 683, 690, 698, 710, 718, 743, 763, 770, 777, 784, 793, 800, 807, 814, 822, 829, 836, 855, 936]\n"
     ]
    },
    {
     "name": "stderr",
     "output_type": "stream",
     "text": [
      "position_searching_S100A8-202: 100%|██████████| 186/186 [00:00<00:00, 55569.52it/s]\n"
     ]
    },
    {
     "name": "stdout",
     "output_type": "stream",
     "text": [
      "Gene S100A8-202: \tNot enough pos for 50 binding sites.\n",
      "Gene S100A8-202: \tcondition too harsh, loose to get better results\n",
      "[158, 159, 160]\n"
     ]
    },
    {
     "name": "stderr",
     "output_type": "stream",
     "text": [
      "position_searching_FCGR3A-213: 100%|██████████| 608/608 [00:00<00:00, 18412.54it/s]\n"
     ]
    },
    {
     "name": "stdout",
     "output_type": "stream",
     "text": [
      "Gene FCGR3A-213: \tcondition too harsh, loose to get better results\n",
      "[0, 85, 90, 97, 102, 107, 112, 117, 124, 198, 203, 208, 213, 308, 315, 325, 330, 336, 350, 355, 361, 366, 371, 376, 381, 387, 393, 398, 403, 408, 413, 418, 423, 428, 433, 438, 443, 448, 453, 458, 465, 472, 481, 486, 492, 501, 548, 553, 558, 563, 568, 573]\n"
     ]
    },
    {
     "name": "stderr",
     "output_type": "stream",
     "text": [
      "position_searching_MS4A1-201: 100%|██████████| 676/676 [00:00<00:00, 33620.08it/s]\n"
     ]
    },
    {
     "name": "stdout",
     "output_type": "stream",
     "text": [
      "Gene MS4A1-201: \tNot enough pos for 50 binding sites.\n",
      "Gene MS4A1-201: \tcondition too harsh, loose to get better results\n",
      "[264, 265, 472, 473, 474, 475, 476, 477, 478, 479, 480, 534, 535, 536, 537, 542, 543, 544, 545, 546, 554, 555, 556, 557, 564, 565, 566, 567, 568, 569, 570, 571, 572, 573, 574, 575, 576, 577, 578, 579, 580, 581, 584, 585, 586, 587, 588, 589, 590, 591, 594, 604, 609, 610, 652, 670, 671, 672, 673, 674]\n"
     ]
    },
    {
     "name": "stderr",
     "output_type": "stream",
     "text": [
      "position_searching_MZB1-201: 100%|██████████| 416/416 [00:00<00:00, 20235.31it/s]\n"
     ]
    },
    {
     "name": "stdout",
     "output_type": "stream",
     "text": [
      "Gene MZB1-201: \tcondition too harsh, loose to get better results\n",
      "[1, 6, 16, 23, 64, 68, 93, 113, 121, 127, 131, 141, 145, 152, 156, 160, 164, 187, 192, 196, 200, 205, 209, 213, 217, 223, 227, 231, 236, 277, 281, 319, 329, 333, 337, 341, 345, 349, 353, 357, 361, 365, 369, 373, 377, 381, 385, 389, 393, 397, 401, 405]\n"
     ]
    },
    {
     "name": "stderr",
     "output_type": "stream",
     "text": [
      "position_searching_NCAM1-223: 100%|██████████| 2085/2085 [00:00<00:00, 29466.39it/s]\n"
     ]
    },
    {
     "name": "stdout",
     "output_type": "stream",
     "text": [
      "Gene NCAM1-223: \tcondition too harsh, loose to get better results\n",
      "[16, 56, 80, 118, 148, 175, 200, 272, 296, 320, 344, 448, 472, 497, 529, 553, 577, 682, 706, 730, 812, 863, 928, 952, 977, 1021, 1063, 1087, 1111, 1135, 1159, 1183, 1207, 1279, 1310, 1334, 1358, 1382, 1406, 1478, 1542, 1630, 1654, 1678, 1706, 1730, 1832, 1913, 1937, 1980, 2055]\n"
     ]
    },
    {
     "name": "stderr",
     "output_type": "stream",
     "text": [
      "position_searching_PECAM1-203: 100%|██████████| 1735/1735 [00:00<00:00, 43088.93it/s]\n"
     ]
    },
    {
     "name": "stdout",
     "output_type": "stream",
     "text": [
      "Gene PECAM1-203: \tcondition too harsh, loose to get better results\n",
      "[45, 60, 67, 74, 224, 231, 238, 245, 253, 261, 299, 308, 315, 335, 397, 686, 830, 904, 911, 918, 925, 932, 939, 946, 953, 960, 976, 1033, 1040, 1047, 1054, 1061, 1068, 1081, 1088, 1102, 1111, 1120, 1127, 1134, 1141, 1205, 1225, 1232, 1239, 1246, 1253, 1295, 1309, 1505, 1512, 1531, 1560, 1567]\n"
     ]
    },
    {
     "name": "stderr",
     "output_type": "stream",
     "text": [
      "position_searching_STAMBPL1-204: 100%|██████████| 1070/1070 [00:00<00:00, 50871.17it/s]\n"
     ]
    },
    {
     "name": "stdout",
     "output_type": "stream",
     "text": [
      "Gene STAMBPL1-204: \tNot enough pos for 50 binding sites.\n",
      "Gene STAMBPL1-204: \tcondition too harsh, loose to get better results\n",
      "[46, 50, 51, 52, 53, 54, 55, 56, 57, 58, 63, 64, 65, 66, 67, 73, 187, 475, 476, 477, 478, 479, 480, 481, 482, 483, 484, 485, 486, 487, 490, 491, 494, 495, 496, 497, 635, 639, 640, 641, 642, 643, 644, 645, 646, 647, 648, 649, 650, 651, 718, 719, 720, 721, 722, 723, 724, 725, 726, 727, 733, 734]\n"
     ]
    },
    {
     "name": "stderr",
     "output_type": "stream",
     "text": [
      "position_searching_AFP-201: 100%|██████████| 1457/1457 [00:00<00:00, 57498.93it/s]\n"
     ]
    },
    {
     "name": "stdout",
     "output_type": "stream",
     "text": [
      "Gene AFP-201: \tNot enough pos for 50 binding sites.\n",
      "Gene AFP-201: \tcondition too harsh, loose to get better results\n",
      "[35, 45, 133, 134, 135, 136, 152, 153, 154, 155, 156, 173, 174, 175, 176, 276, 277, 278, 279, 280, 281, 282, 292, 293, 294, 295, 296, 298, 299, 300, 301, 302, 305, 306, 307, 308, 309, 310, 311, 312, 313, 314, 315, 316, 318, 319, 320, 321, 322, 323, 324, 325, 326, 414, 415, 416, 417, 418, 419, 420, 421, 422, 423, 424, 425, 426, 427, 428, 429, 430, 432, 433, 434, 435, 745, 746, 747, 879, 880, 881]\n"
     ]
    },
    {
     "name": "stderr",
     "output_type": "stream",
     "text": [
      "position_searching_GPC3-202: 100%|██████████| 1410/1410 [00:00<00:00, 55179.97it/s]\n"
     ]
    },
    {
     "name": "stdout",
     "output_type": "stream",
     "text": [
      "Gene GPC3-202: \tNot enough pos for 50 binding sites.\n",
      "Gene GPC3-202: \tcondition too harsh, loose to get better results\n",
      "[114, 115, 116, 124, 125, 276, 277, 278, 283, 284, 285, 286, 287, 288, 289, 290, 291, 292, 293, 295, 296, 297, 298, 299, 300, 301, 302, 303, 304, 305, 306, 307, 308, 309, 310, 311, 312, 313, 314, 315, 316, 317, 318, 590, 591, 592, 593, 594, 806, 824, 825, 827, 828, 829, 830, 831, 833, 834, 835, 836, 842, 843, 858, 870, 1013, 1014, 1015, 1016, 1017, 1022, 1031, 1032, 1033, 1034, 1035, 1036, 1037, 1042, 1051, 1052, 1053, 1054, 1055, 1056, 1057, 1342, 1343, 1394, 1395, 1396, 1397, 1398, 1399, 1402]\n"
     ]
    },
    {
     "name": "stderr",
     "output_type": "stream",
     "text": [
      "position_searching_EPCAM-202: 100%|██████████| 785/785 [00:00<00:00, 87133.90it/s]\n"
     ]
    },
    {
     "name": "stdout",
     "output_type": "stream",
     "text": [
      "Gene EPCAM-202: \tNot enough pos for 50 binding sites.\n",
      "Gene EPCAM-202: \tcondition too harsh, loose to get better results\n",
      "[408, 417, 468, 469, 470, 471, 472, 473, 474, 475, 476, 477, 478, 479, 480, 481, 482, 483, 484, 485, 486, 488, 489, 490, 491, 492, 493, 495, 496, 497, 498, 499, 500, 501, 502, 503, 504, 505, 510, 515, 516, 517, 518, 562, 563, 572, 573, 577, 578, 579, 754, 755, 756, 757, 758, 759, 760, 761, 762, 763, 764, 765, 766, 768, 769, 770, 771, 772, 773, 774]\n"
     ]
    }
   ],
   "source": [
    "from lib.search_binding import step_by_step, find_max_min_difference_fixed_length_subsequence, seq_minus\n",
    "\n",
    "# Initiation of array\n",
    "binding_site_FOIs = [\n",
    "    \"accession\",\n",
    "    \"gene_name\",\n",
    "    \"mol_type\",\n",
    "    \"organism\",\n",
    "    \"pos_on_seq\",\n",
    "    \"binding\",\n",
    "    \"Tm_l\",\n",
    "    \"Tm_r\",\n",
    "    \"wanted\",\n",
    "]\n",
    "align_FOIs = [\"align_num\", \"align_accession\", \"align_descrip\", \"plus/minus\"]\n",
    "FOI = pd.DataFrame(columns=binding_site_FOIs + align_FOIs)\n",
    "\n",
    "# Search binding sites on mRNA sequence\n",
    "file_out_dir = pre_binding_dir\n",
    "try:\n",
    "    os.mkdir(file_out_dir)\n",
    "except:\n",
    "    pass\n",
    "\n",
    "pre_binding_num = {}\n",
    "\n",
    "# initialization of file\n",
    "with open(os.path.join(file_out_dir, total_pre_binding_file_name), \"w\") as handle:\n",
    "    handle.write(\"\")\n",
    "\n",
    "for desc, seq in sequences_of_all.items():\n",
    "    id, gene_name, mol_type = desc.split('|')\n",
    "    minus_seq = seq_minus(seq)\n",
    "    \n",
    "    Tm_l, Tm_r, selected_substrings, pos_on_seq = step_by_step(\n",
    "        minus_seq,\n",
    "        BDS_len=40,\n",
    "        BDS_num=50,\n",
    "        min_gap=1,\n",
    "        better_gap=40,\n",
    "        gene=gene_name,\n",
    "        G_min=0.25,\n",
    "        G_max=0.7,\n",
    "        G_consecutive=5,\n",
    "        Tm_low=50,\n",
    "        Tm_high=65,\n",
    "    )\n",
    "    \n",
    "    record_list = []\n",
    "    for i, pre_binding_tmp in enumerate(selected_substrings):\n",
    "        record_list.append(\n",
    "            SeqRecord(\n",
    "                Seq(pre_binding_tmp),\n",
    "                id=\"pre_binding\" + str(i),\n",
    "                description=\"|\".join([id, gene_name, organism, mol_type]),\n",
    "            )\n",
    "        )\n",
    "\n",
    "    # add information about binding sites to FOI\n",
    "    add = pd.DataFrame(\n",
    "        {\n",
    "            \"accession\": [id] * len(selected_substrings),\n",
    "            \"gene_name\": [gene_name] * len(selected_substrings),\n",
    "            \"mol_type\": [mol_type] * len(selected_substrings),\n",
    "            \"organism\": [organism] * len(selected_substrings),\n",
    "            \"binding\": selected_substrings,\n",
    "            \"Tm_l\": Tm_l,\n",
    "            \"Tm_r\": Tm_r,\n",
    "            \"pos_on_seq\": pos_on_seq,\n",
    "        }\n",
    "    )\n",
    "    FOI = pd.concat([FOI, add], ignore_index=True)\n",
    "\n",
    "    file_out = os.path.join(file_out_dir, gene_name + pre_binding_file_suffix)\n",
    "    \n",
    "    # write pre_binding to files\n",
    "    with open(file_out, \"w\") as f:\n",
    "        for new_record in record_list:\n",
    "            SeqIO.write(new_record, f, \"fasta\")\n",
    "    with open(file_out_dir + total_pre_binding_file_name, \"a\") as handle:\n",
    "        for new_record in record_list:\n",
    "            SeqIO.write(new_record, handle, \"fasta\")\n",
    "\n",
    "    # record the num of pre_binding for each gene\n",
    "    pre_binding_num[f\"{id}_{gene_name}\"] = len(selected_substrings)\n",
    "\n",
    "with open(os.path.join(output, pre_binding_num_file), \"w\") as f:\n",
    "    json.dump(pre_binding_num, f)"
   ]
  },
  {
   "attachments": {},
   "cell_type": "markdown",
   "metadata": {},
   "source": [
    "## Blast and extract blast results"
   ]
  },
  {
   "cell_type": "code",
   "execution_count": null,
   "metadata": {},
   "outputs": [],
   "source": [
    "# with open(file_out_dir + total_pre_binding_file_name, \"r\") as f:\n",
    "#     fasta_string = f.read()\n",
    "# txid = [2697049]  # organism\n",
    "\n",
    "# # Submit BLAST search and get handle object\n",
    "# handle = NCBIWWW.qblast(\n",
    "#     program=\"blastn\",\n",
    "#     megablast=\"yes\",\n",
    "#     database=\"refseq_rna\",\n",
    "#     sequence=fasta_string,\n",
    "#     url_base=\"https://blast.ncbi.nlm.nih.gov/Blast.cgi\",\n",
    "#     format_object=\"Alignment\",\n",
    "#     format_type=\"Xml\",\n",
    "# )\n",
    "\n",
    "# # read handle object and save to a file\n",
    "# with open(os.path.join(os.path.join(output, blast_results_file)), \"w\") as f:\n",
    "#     f.write(handle.read())"
   ]
  },
  {
   "cell_type": "code",
   "execution_count": 19,
   "metadata": {},
   "outputs": [],
   "source": [
    "# Extract interested information from blast_results\n",
    "align_num = []\n",
    "\n",
    "# read the id/plus-minus part/align_num\n",
    "with open(os.path.join(output, blast_results_file), \"r\") as blast_output:\n",
    "    blast_records = NCBIXML.parse(blast_output)\n",
    "    loca = 0\n",
    "    for blast_record in blast_records:\n",
    "        align_accession = []\n",
    "        align_descrip_list = []\n",
    "        # get align num of each binding site\n",
    "        length = len(blast_record.alignments)\n",
    "        align_num.append(length)\n",
    "        for i in range(length):\n",
    "            descrip = blast_record.descriptions[i].title.split(\"|\")\n",
    "            # get accession and descrip of each align seq\n",
    "            align_accession.append(descrip[3])\n",
    "            align_descrip_list.append(descrip[-1])\n",
    "        FOI.loc[loca, \"align_accession\"] = \"|\".join(str(_) for _ in align_accession)\n",
    "\n",
    "        # add align_descrip to df\n",
    "        FOI.loc[loca, \"align_descrip\"] = \"|\".join(str(_) for _ in align_descrip_list)\n",
    "\n",
    "        # get plus/minus of each align seq\n",
    "        p_m = [blast_record.alignments[_].hsps[0].frame[1] for _ in range(length)]\n",
    "\n",
    "        # add plus/minus to df\n",
    "        try:\n",
    "            FOI.loc[loca, \"plus/minus\"] = \",\".join([str(_) for _ in p_m])\n",
    "        except:\n",
    "            FOI.loc[loca, \"plus/minus\"] = \"NAN\"\n",
    "\n",
    "        loca += 1\n",
    "\n",
    "FOI[\"align_num\"] = align_num"
   ]
  },
  {
   "attachments": {},
   "cell_type": "markdown",
   "metadata": {},
   "source": [
    "## Select wanted binding site\n"
   ]
  },
  {
   "cell_type": "code",
   "execution_count": 38,
   "metadata": {},
   "outputs": [],
   "source": [
    "FOI[\"wanted\"] = [True] * len(FOI)"
   ]
  },
  {
   "cell_type": "code",
   "execution_count": 39,
   "metadata": {},
   "outputs": [
    {
     "name": "stdout",
     "output_type": "stream",
     "text": [
      "Gene CXCL13-201: \tNot enough pos for 3 binding sites.\n",
      "Gene CXCL13-201: \tcondition too harsh, loose to get better results\n",
      "[251, 252, 253, 254, 255, 256]\n",
      "Gene GZMA-201: \tNot enough pos for 3 binding sites.\n",
      "Gene GZMA-201: \tcondition too harsh, loose to get better results\n",
      "[439, 440, 441, 442, 443, 446, 447, 508, 509, 510, 511, 512, 513, 518, 519, 520, 521, 522, 523, 524, 525, 526, 527, 532, 533, 538, 555, 556]\n",
      "Gene CLEC9A-201: \tcondition too harsh, loose to get better results\n",
      "[78, 150, 486]\n",
      "Gene S100A8-202: \tNot enough pos for 3 binding sites.\n",
      "Gene S100A8-202: \tcondition too harsh, loose to get better results\n",
      "[186, 187, 188]\n"
     ]
    }
   ],
   "source": [
    "# sieve for the suitable binding site\n",
    "gene_name_list = [_.upper() for _ in gene_list]\n",
    "gene_name_list_out = [i for i in gene_name_list]\n",
    "for i in range(len(FOI)):\n",
    "    # check gene_name\n",
    "    gene_name = FOI.loc[i, \"gene_name\"]\n",
    "    if gene_name.split('-')[0].upper() not in gene_name_list:\n",
    "        FOI.loc[i, \"wanted\"] = False\n",
    "    else:\n",
    "        try:\n",
    "            gene_name_list_out.remove(gene_name)\n",
    "        except:\n",
    "            pass\n",
    "\n",
    "    # check DNA or mRNA type\n",
    "    if FOI.loc[i, \"wanted\"] == True:\n",
    "        if FOI.loc[i, \"mol_type\"] != \"protein_coding\":\n",
    "            FOI.loc[i, \"wanted\"] = False\n",
    "            print(FOI.loc[i, \"mol_type\"])\n",
    "\n",
    "    # check gene_organism name\n",
    "    if FOI.loc[i, \"wanted\"] == True:\n",
    "        spe_ori, gene_ori = FOI.loc[i, \"organism\"], FOI.loc[i, \"gene_name\"].split('-')[0]\n",
    "        descrip = FOI.loc[i, \"align_descrip\"].split(\"|\")\n",
    "        for des in descrip:\n",
    "            if gene_ori not in des and spe_ori in des:\n",
    "                FOI.loc[i, \"wanted\"] = False\n",
    "                break\n",
    "\n",
    "    # check plus/minus\n",
    "    if FOI.loc[i, \"wanted\"] == True:\n",
    "        if pd.isnull(FOI.loc[i, \"plus/minus\"]):\n",
    "            FOI.loc[i, \"wanted\"] = False\n",
    "        else:\n",
    "            pm_list = FOI.loc[i, \"plus/minus\"].split(\",\")\n",
    "            if \"-1\" not in pm_list:\n",
    "                FOI.loc[i, \"wanted\"] = False\n",
    "\n",
    "# write the whole information of interest to a excel file in tmp dir\n",
    "FOI.to_excel(os.path.join(output, \"probes_sieve.xlsx\"))\n",
    "\n",
    "out_tmp = FOI[FOI[\"wanted\"] == True]\n",
    "output_df = pd.DataFrame()\n",
    "for gene in out_tmp.gene_name.unique():\n",
    "    pos_of_True = list(out_tmp[out_tmp.gene_name == gene][\"pos_on_seq\"])\n",
    "    best_pos = find_max_min_difference_fixed_length_subsequence(\n",
    "        pos_of_True,\n",
    "        length=3,\n",
    "        min_gap=40,\n",
    "        better_gap=80,\n",
    "        gene=gene,\n",
    "    )\n",
    "    out_subset = out_tmp[out_tmp.gene_name == gene]\n",
    "    out_subset = out_subset[out_subset[\"pos_on_seq\"].isin(best_pos)]\n",
    "    output_df = pd.concat([output_df, out_subset])\n",
    "\n",
    "# write the output to a xlsx file\n",
    "output_df.to_excel(os.path.join(output, \"probes_wanted.xlsx\"))"
   ]
  }
 ],
 "metadata": {
  "kernelspec": {
   "display_name": "base",
   "language": "python",
   "name": "python3"
  },
  "language_info": {
   "codemirror_mode": {
    "name": "ipython",
    "version": 3
   },
   "file_extension": ".py",
   "mimetype": "text/x-python",
   "name": "python",
   "nbconvert_exporter": "python",
   "pygments_lexer": "ipython3",
   "version": "3.10.11"
  },
  "orig_nbformat": 4
 },
 "nbformat": 4,
 "nbformat_minor": 2
}
