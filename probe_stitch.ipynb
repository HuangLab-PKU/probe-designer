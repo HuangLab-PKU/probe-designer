{
 "cells": [
  {
   "cell_type": "code",
   "execution_count": 1,
   "metadata": {},
   "outputs": [],
   "source": [
    "# Env\n",
    "import os\n",
    "import pandas as pd\n",
    "import numpy as np\n",
    "from pathlib import Path\n",
    "\n",
    "\n",
    "DATASET_DIR = Path('/mnt/f/spatial_data/probe')\n",
    "RUNID = 'example_dataset'\n",
    "workdir = DATASET_DIR / RUNID\n",
    "PANEL = 'PRISM'\n",
    "organism = 'mouse'"
   ]
  },
  {
   "cell_type": "code",
   "execution_count": null,
   "metadata": {},
   "outputs": [],
   "source": [
    "gene_info = pd.read_excel(os.path.join(workdir, \"gene_list.xlsx\"))\n",
    "gene_info['gene'] = gene_info['gene_name']\n",
    "if organism == 'mouse': gene_info['gene'] = gene_info['gene'].str.capitalize()\n",
    "elif organism == 'human': gene_info['gene'] = gene_info['gene'].str.upper()\n",
    "gene_list = [_.strip() for _ in gene_info['gene'].unique() if _!=0]\n",
    "print(len(gene_list))\n",
    "gene_info.head()"
   ]
  },
  {
   "cell_type": "markdown",
   "metadata": {},
   "source": [
    "# Binding sites"
   ]
  },
  {
   "cell_type": "code",
   "execution_count": null,
   "metadata": {},
   "outputs": [],
   "source": [
    "binding_df = pd.read_excel(DATASET_DIR / RUNID / \"gene_binding_site.xlsx\")\n",
    "if organism == 'mouse': binding_df['gene_name'] = binding_df['gene_name'].str.capitalize()\n",
    "elif organism == 'human': binding_df['gene_name'] = binding_df['gene_name'].str.upper()\n",
    "# binding_df = binding_df[binding_df['gene_name'].isin(gene_list)]\n",
    "print(len(binding_df))\n",
    "binding_df.head()"
   ]
  },
  {
   "cell_type": "markdown",
   "metadata": {},
   "source": [
    "# Barcode_df"
   ]
  },
  {
   "cell_type": "code",
   "execution_count": null,
   "metadata": {},
   "outputs": [],
   "source": [
    "if PANEL == 'PRISM':\n",
    "    probe_df = pd.DataFrame()\n",
    "    barcode_df = pd.read_excel(DATASET_DIR / \"PRISM_31plex_barcode.xlsx\", index_col=0)[['Sequence']]\n",
    "elif PANEL == 'SPRINTseq':\n",
    "    barcode_df = pd.read_excel(DATASET_DIR / \"SPRINTSEQ_369_barcode.xlsx\", index_col=0)[['Barcode sequence']]\n",
    "    primer_l = 'TCCCTACACGACGCTCTTCCGATCT'\n",
    "    primer_r = 'CATTCCTGCTGAACCGCTCTTCCGA'\n",
    "    barcode_df['Barcode(70bp)'] = primer_l + barcode_df['Barcode sequence'] + primer_r + barcode_df['Barcode sequence']\n",
    "barcode_df.head()"
   ]
  },
  {
   "cell_type": "markdown",
   "metadata": {},
   "source": [
    "# Stitch of probe"
   ]
  },
  {
   "cell_type": "markdown",
   "metadata": {},
   "source": [
    "## direct combine of binding site all"
   ]
  },
  {
   "cell_type": "code",
   "execution_count": null,
   "metadata": {},
   "outputs": [],
   "source": [
    "# prism_list = [_ for _ in range(1, 31) if _ not in [1,5,9,]]\n",
    "prism_list = [_ for _ in range(1, 31)]\n",
    "for num, (prism, gene) in enumerate(zip(prism_list, binding_df[\"gene\"].tolist())):\n",
    "    binding = binding_df[\"binding\"].loc[num]\n",
    "    binding_l = binding_df[\"binding_left\"].loc[num]\n",
    "    binding_r = binding_df[\"binding_right\"].loc[num]\n",
    "\n",
    "    # assert len(binding) == 40, f\"binding site length is not 40bp: {binding}\"\n",
    "    # binding_l = binding[:20].lower()\n",
    "    # binding_r = binding[20:].lower()\n",
    "    barcode = barcode_df.loc[f\"Prism_{prism}\", \"Barcode (82bp)\"]\n",
    "    probe = binding_r.lower() + barcode.upper() + binding_l.lower()\n",
    "\n",
    "    probe_info = pd.DataFrame({\n",
    "            \"PRISM\": [f\"PRISM_{prism}\"],\n",
    "            \"gene\":[f'{gene}'],\n",
    "            \"probe\": [probe],\n",
    "            \"barcode\": [barcode],\n",
    "            \"binding\": [binding],\n",
    "            })\n",
    "\n",
    "    if len(probe_df) == 0:\n",
    "        probe_df = probe_info\n",
    "    else:\n",
    "        probe_df = pd.concat([probe_df, probe_info])\n",
    "\n",
    "probe_df = probe_df.set_index('PRISM')\n",
    "probe_df.head()"
   ]
  },
  {
   "cell_type": "markdown",
   "metadata": {},
   "source": [
    "## select middle one for multi binding sites"
   ]
  },
  {
   "cell_type": "code",
   "execution_count": null,
   "metadata": {},
   "outputs": [],
   "source": [
    "# 创建一个空的DataFrame来存储结果\n",
    "middle_rows = pd.DataFrame()\n",
    "\n",
    "# 按'Gene'分组，然后找到每组的中间行\n",
    "for name, group in binding_df.groupby('gene_name',sort=False):\n",
    "    middle_index = len(group) // 2\n",
    "    # 使用.iloc来获取真实的DataFrame索引\n",
    "    middle_row = group.iloc[[middle_index]]\n",
    "    middle_rows = pd.concat([middle_rows, middle_row])\n",
    "\n",
    "binding_df = middle_rows.copy()\n",
    "print(len(binding_df))\n",
    "binding_df.head()"
   ]
  },
  {
   "cell_type": "code",
   "execution_count": null,
   "metadata": {},
   "outputs": [],
   "source": [
    "# prism_list = [_ for _ in range(1, 31) if _ not in [1,5,9,]]\n",
    "# prism_list = [_ for _ in range(1, 31)]\n",
    "probe_df = pd.DataFrame()\n",
    "seq_list = [_+1+167 for _ in range(len(binding_df))]\n",
    "# seq_list = [_+1 for _ in range(30)]\n",
    "\n",
    "for num, (id, gene) in enumerate(zip(seq_list, binding_df[\"gene_name\"].tolist())):\n",
    "    binding = binding_df[\"bds\"].iloc[num]\n",
    "    assert len(binding) == 40, f\"binding site length is not 40bp: {binding}\"\n",
    "    binding_l = binding[:20]\n",
    "    binding_r = binding[20:]\n",
    "    # binding_l = binding_df[\"binding_left\"].loc[num]\n",
    "    # binding_r = binding_df[\"binding_right\"].loc[num]\n",
    "    barcode = barcode_df.loc[f'Prism_{id}', \"Barcode (82bp)\"] if PANEL == 'PRISM' else barcode_df.loc[id, \"Barcode(70bp)\"]\n",
    "    probe = binding_r.lower() + barcode.upper() + binding_l.lower()\n",
    "\n",
    "    if PANEL == 'PRISM':\n",
    "        probe_info = pd.DataFrame({\n",
    "            \"PRISM\": [f\"PRISM_{id}\"],\n",
    "            \"gene\":[f'{gene.upper()}'],\n",
    "            \"probe_name\":[f'PRISM_{id}_{gene}'],\n",
    "            \"probe_seq\": [probe],\n",
    "            \"barcode_seq\": [barcode],\n",
    "            \"binding_seq\": [binding],})\n",
    "\n",
    "    elif PANEL == 'SPRINTseq':\n",
    "        probe_info = pd.DataFrame({\n",
    "            \"SPRINTseq\": [f\"SPRINTseq_{id}\"],\n",
    "            \"gene\":[f'{gene.upper()}'],\n",
    "            \"probe_name\":[f'Seq_{id}_{gene}'],\n",
    "            \"probe\": [probe],\n",
    "            \"barcode\": [barcode],\n",
    "            \"binding\": [binding],})\n",
    "        \n",
    "    if len(probe_df) == 0: probe_df = probe_info\n",
    "    else: probe_df = pd.concat([probe_df, probe_info])\n",
    "\n",
    "probe_df = probe_df.set_index('PRISM') if PANEL == 'PRISM' else probe_df.set_index('SPRINTseq')\n",
    "probe_df.head()"
   ]
  },
  {
   "cell_type": "markdown",
   "metadata": {},
   "source": [
    "## select 3 binding sites for each gene"
   ]
  },
  {
   "cell_type": "code",
   "execution_count": null,
   "metadata": {},
   "outputs": [],
   "source": [
    "probe_df = pd.DataFrame()\n",
    "\n",
    "cont = 0\n",
    "prism_pos = 0\n",
    "prism_pos_list = [_+1 for _ in range(15)]\n",
    "prism = prism_pos_list[prism_pos]\n",
    "max_cont = 3\n",
    "pre_gene_name = binding_df[\"gene_name\"].iloc[0]\n",
    "for num, gene in enumerate(binding_df[\"gene_name\"]):\n",
    "    if pre_gene_name != gene:\n",
    "        pre_gene_name = gene\n",
    "        cont = 0\n",
    "        prism_pos += 1\n",
    "        prism = prism_pos_list[prism_pos]\n",
    "    elif cont == max_cont:\n",
    "        continue\n",
    "    # print(num, gene, prism)\n",
    "    cont += 1\n",
    "    binding = binding_df[\"bds\"].iloc[num]\n",
    "    assert len(binding) == 40, f\"binding site at pos {num} length is not 40bp: {binding}, {len(binding)} instead.\"\n",
    "\n",
    "    binding_l = binding[:20].lower()\n",
    "    binding_r = binding[20:].lower()\n",
    "    barcode = barcode_df.loc[prism, \"Sequence\"]\n",
    "    probe = binding_r + barcode + binding_l\n",
    "\n",
    "    if PANEL == 'PRISM':\n",
    "        probe_info = pd.DataFrame({\n",
    "            \"PRISM\": [f\"PRISM_{prism}\"],\n",
    "            \"gene\":[f'{gene}'],\n",
    "            \"probe_name\":[f'PR_{prism}_{gene}_{cont}'],\n",
    "            \"probe_seq\": [probe],\n",
    "            \"barcode_seq\": [barcode],\n",
    "            \"binding_seq\": [binding],})\n",
    "\n",
    "    elif PANEL == 'SPRINTseq':\n",
    "        probe_info = pd.DataFrame({\n",
    "            \"SPRINTseq\": [f\"SPRINTseq_{prism}\"],\n",
    "            \"gene\":[f'{gene}'],\n",
    "            \"probe_name\":[f'Seq_{prism}_{gene}_{cont}'],\n",
    "            \"probe\": [probe],\n",
    "            \"barcode\": [barcode],\n",
    "            \"binding\": [binding],})\n",
    "    if len(probe_df) == 0: probe_df = probe_info\n",
    "    else: probe_df = pd.concat([probe_df, probe_info])\n",
    "probe_df = probe_df.reset_index(drop=True)\n",
    "probe_df"
   ]
  },
  {
   "cell_type": "code",
   "execution_count": null,
   "metadata": {},
   "outputs": [],
   "source": [
    "pd.DataFrame(probe_df['gene'].unique())"
   ]
  },
  {
   "cell_type": "markdown",
   "metadata": {},
   "source": [
    "# Save probe"
   ]
  },
  {
   "cell_type": "code",
   "execution_count": null,
   "metadata": {},
   "outputs": [],
   "source": [
    "probe_df.to_excel(DATASET_DIR / RUNID / f'{PANEL}_probe.xlsx')\n",
    "print(len(probe_df))\n",
    "probe_df.head()"
   ]
  }
 ],
 "metadata": {
  "kernelspec": {
   "display_name": "probe-designer",
   "language": "python",
   "name": "python3"
  },
  "language_info": {
   "codemirror_mode": {
    "name": "ipython",
    "version": 3
   },
   "file_extension": ".py",
   "mimetype": "text/x-python",
   "name": "python",
   "nbconvert_exporter": "python",
   "pygments_lexer": "ipython3",
   "version": "3.11.8"
  }
 },
 "nbformat": 4,
 "nbformat_minor": 2
}
