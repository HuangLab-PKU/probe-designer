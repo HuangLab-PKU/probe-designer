{
 "cells": [
  {
   "cell_type": "code",
   "execution_count": 2,
   "metadata": {},
   "outputs": [],
   "source": [
    "import pandas as pd"
   ]
  },
  {
   "cell_type": "code",
   "execution_count": 23,
   "metadata": {},
   "outputs": [],
   "source": [
    "def hum_dis(seq1, seq2):\n",
    "    seq1 = seq1.upper()\n",
    "    seq2 = seq2.upper()\n",
    "    if len(seq1) != len(seq2):\n",
    "        # print(\"seq_not_match\")\n",
    "        # print(seq1, seq2)\n",
    "        return -1\n",
    "    else:\n",
    "        cont = 0\n",
    "        for char in range(len(seq1)):\n",
    "            if seq1[char] != seq2[char]:\n",
    "                cont += 1\n",
    "        return cont\n",
    "    \n",
    "\n",
    "def create_seq_lib(\n",
    "    seq_list,\n",
    "    color_fraction={\n",
    "        \"Red\": [_ / 4 for _ in range(5)],\n",
    "        \"Green\": [_ / 2 for _ in range(3)],\n",
    "        \"Blue\": [_ / 4 for _ in range(5)],\n",
    "        \"Yellow\": [_ / 4 for _ in range(5)],\n",
    "    },\n",
    "):\n",
    "    seq_lib = pd.DataFrame(columns=[\"seq\", \"color\", \"grade\", \"fraction\"])\n",
    "    color_list = []\n",
    "    for color in color_fraction.keys():\n",
    "        color_list += [color] * len(color_fraction[color])\n",
    "    seq_lib[\"color\"] = color_list\n",
    "\n",
    "    if len(seq_lib[\"color\"]) > len(seq_list):\n",
    "        print(\"Seq Not Enough\")\n",
    "        return ValueError\n",
    "\n",
    "    seq_lib[\"seq\"] = seq_list[: len(seq_lib[\"color\"])]\n",
    "\n",
    "    fra = []\n",
    "    grade = []\n",
    "    for color in color_fraction.keys():\n",
    "        fra += color_fraction[color]\n",
    "        grade += [_ for _ in range(len(color_fraction[color]))]\n",
    "    seq_lib[\"fraction\"] = fra\n",
    "    seq_lib[\"grade\"] = grade\n",
    "\n",
    "    return seq_lib\n",
    "\n",
    "\n",
    "import itertools\n",
    "\n",
    "def create_barcode_lib(\n",
    "    seq_lib,\n",
    "    color_order=[\"Green\", \"Red\", \"Blue\", \"Yellow\"],\n",
    "    sum_num=5,\n",
    "    sum_list=[\"Red\", \"Yellow\", \"Blue\"],\n",
    "):\n",
    "    color_order_seq = [_ + \"seq\" for _ in color_order]\n",
    "    barcode_lib = pd.DataFrame(columns=[\"barcode\"] + color_order + color_order_seq)\n",
    "\n",
    "    grade_list = {\n",
    "        color: list(seq_lib[seq_lib.color == color].grade.unique())\n",
    "        for color in color_order\n",
    "    }\n",
    "    barcode_lib[color_order] = list(itertools.product(*grade_list.values()))\n",
    "\n",
    "    for i in range(len(barcode_lib)):\n",
    "        grade = barcode_lib.loc[i, color_order]\n",
    "\n",
    "        barcode_sub_list = [\n",
    "            list(\n",
    "                seq_lib[\n",
    "                    (seq_lib.color == color_order[_]) & (seq_lib.grade == grade[_])\n",
    "                ].seq\n",
    "            )[0]\n",
    "            for _ in range(len(color_order))\n",
    "        ]\n",
    "        barcode_lib.loc[i, color_order_seq] = barcode_sub_list\n",
    "        barcode_lib.loc[i, \"barcode\"] = \"\".join(barcode_sub_list)\n",
    "\n",
    "    if sum_num:\n",
    "        barcode_lib[\"sum\"] = barcode_lib[sum_list].sum(axis=1)\n",
    "        barcode_lib = barcode_lib[\n",
    "            # (barcode_lib[\"sum\"] >= 1) \n",
    "            # &\n",
    "            (barcode_lib[\"sum\"] == sum_num)\n",
    "        ]\n",
    "        barcode_lib.set_index('barcode', inplace=True)\n",
    "\n",
    "    return barcode_lib"
   ]
  },
  {
   "cell_type": "code",
   "execution_count": null,
   "metadata": {},
   "outputs": [],
   "source": [
    "file = './random_seq_filtered.txt'\n",
    "with open(file, \"r\") as f:\n",
    "    seq_list = f.readlines()\n",
    "seq_list = [seq_list[_].replace('\\n','') for _ in range(1,len(seq_list),2)]"
   ]
  },
  {
   "cell_type": "code",
   "execution_count": 4,
   "metadata": {},
   "outputs": [],
   "source": [
    "seq_lib = create_seq_lib(\n",
    "    seq_list=seq_list,\n",
    "    color_fraction={\n",
    "        \"Green\": [0, 0.5, 1],\n",
    "        \"Red\": [_ / 5 for _ in range(6)],\n",
    "        \"Blue\": [_ / 5 for _ in range(6)],\n",
    "        \"Yellow\": [_ / 5 for _ in range(6)],\n",
    "    },\n",
    ")"
   ]
  },
  {
   "cell_type": "code",
   "execution_count": 46,
   "metadata": {},
   "outputs": [],
   "source": [
    "barcode_lib = create_barcode_lib(\n",
    "    seq_lib,\n",
    "    color_order=[\"Green\", \"Red\", \"Blue\", \"Yellow\"],\n",
    "    sum_num=5,\n",
    "    sum_list=[\"Red\", \"Yellow\", \"Blue\"],\n",
    ")"
   ]
  },
  {
   "cell_type": "code",
   "execution_count": null,
   "metadata": {},
   "outputs": [],
   "source": [
    "seq_lib.to_csv(r\"./seq_lib.csv\")\n",
    "barcode_lib.to_csv(r\"./barcode_lib.csv\")"
   ]
  }
 ],
 "metadata": {
  "kernelspec": {
   "display_name": "probe_designer",
   "language": "python",
   "name": "python3"
  },
  "language_info": {
   "codemirror_mode": {
    "name": "ipython",
    "version": 3
   },
   "file_extension": ".py",
   "mimetype": "text/x-python",
   "name": "python",
   "nbconvert_exporter": "python",
   "pygments_lexer": "ipython3",
   "version": "3.10.11"
  }
 },
 "nbformat": 4,
 "nbformat_minor": 2
}
