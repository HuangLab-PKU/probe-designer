{
 "cells": [
  {
   "cell_type": "code",
   "execution_count": 4,
   "metadata": {},
   "outputs": [],
   "source": [
    "# Env\n",
    "import os\n",
    "import pandas as pd\n",
    "\n",
    "os.chdir(\"/home/akikawa/repos/probe_designer/dataset/2023.10.24_ChunhongZheng_pancreatic_cancer copy\")"
   ]
  },
  {
   "cell_type": "code",
   "execution_count": 5,
   "metadata": {},
   "outputs": [],
   "source": [
    "barcode_df = pd.read_excel(r\"../PRISM_30plex_barcode.xlsx\", index_col=0)\n",
    "binding_df = pd.read_excel(r\"./gene_binding_site.xlsx\")\n",
    "probe_df = pd.DataFrame()"
   ]
  },
  {
   "cell_type": "code",
   "execution_count": 6,
   "metadata": {},
   "outputs": [],
   "source": [
    "cont = 0\n",
    "prism = 1\n",
    "pre_gene_name = binding_df[\"gene_name\"][0]\n",
    "for num, gene in enumerate(binding_df[\"gene_name\"]):\n",
    "    if pre_gene_name != gene:\n",
    "        pre_gene_name = gene\n",
    "        cont = 0\n",
    "        prism += 1\n",
    "    elif cont == 3:\n",
    "        continue\n",
    "    # print(num, gene, prism)\n",
    "    cont += 1\n",
    "    binding = binding_df[\"binding\"].loc[num]\n",
    "    binding_l = binding[:20].lower()\n",
    "    binding_r = binding[20:].lower()\n",
    "    barcode = barcode_df.loc[f\"Prism_{prism}\", \"Barcode (82bp)\"]\n",
    "    probe = binding_r + barcode + binding_l\n",
    "\n",
    "    probe_info = pd.DataFrame(\n",
    "        {\n",
    "            \"PRISM\": [f\"PRISM_{prism}\"],\n",
    "            \"gene\":[f'{gene}_{cont}'],\n",
    "            \"probe\": [probe],\n",
    "            \"barcode\": [barcode],\n",
    "            \"binding\": [binding],\n",
    "        },\n",
    "    )\n",
    "\n",
    "    if len(probe_df) == 0:\n",
    "        probe_df = probe_info\n",
    "    else:\n",
    "        probe_df = pd.concat([probe_df, probe_info])\n",
    "\n",
    "probe_df = probe_df.set_index('PRISM')\n",
    "probe_df.to_excel(r'./probe.xlsx')"
   ]
  }
 ],
 "metadata": {
  "kernelspec": {
   "display_name": "probe_designer",
   "language": "python",
   "name": "python3"
  },
  "language_info": {
   "codemirror_mode": {
    "name": "ipython",
    "version": 3
   },
   "file_extension": ".py",
   "mimetype": "text/x-python",
   "name": "python",
   "nbconvert_exporter": "python",
   "pygments_lexer": "ipython3",
   "version": "3.10.11"
  }
 },
 "nbformat": 4,
 "nbformat_minor": 2
}
