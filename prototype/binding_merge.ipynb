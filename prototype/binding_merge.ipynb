{
 "cells": [
  {
   "cell_type": "code",
   "execution_count": 20,
   "metadata": {},
   "outputs": [],
   "source": [
    "# Env\n",
    "import os\n",
    "import pandas as pd\n",
    "\n",
    "os.chdir(\"/home/akikawa/repos/probe_designer/dataset/2023.10.24_ChunhongZheng_pancreatic_cancer copy\")\n",
    "resultsdir = os.listdir('./results/')"
   ]
  },
  {
   "cell_type": "code",
   "execution_count": 21,
   "metadata": {},
   "outputs": [],
   "source": [
    "meta = pd.read_excel(\"./gene_list.xlsx\")\n",
    "\n",
    "result = pd.DataFrame()\n",
    "for dir in resultsdir:\n",
    "    try:\n",
    "        df = pd.read_excel(\"./results/\" + dir + \"/probes_wanted.xlsx\")\n",
    "        df = df[df.columns[1:]]\n",
    "        result = pd.concat([result, df])\n",
    "    except:\n",
    "        continue\n",
    "\n",
    "gene_list = meta[\"gene_name\"]\n",
    "gene_list = gene_list.str.upper()\n",
    "\n",
    "result[\"gene_name\"] = pd.Categorical(\n",
    "    [_.upper() for _ in result[\"gene_name\"]], categories=gene_list, ordered=True\n",
    ")\n",
    "\n",
    "result = result.sort_values([\"gene_name\", \"pos_on_seq\"])\n",
    "result.drop_duplicates(subset=[\"binding\"], keep=\"first\", inplace=True)\n",
    "result = result.set_index(\"accession\")\n",
    "\n",
    "result.to_excel(r\"./gene_binding_site.xlsx\")\n",
    "\n",
    "to_search = [gene for gene in gene_list if len(result[result[\"gene_name\"] == gene]) < 3]\n",
    "with open(\"to_search.txt\", \"w\") as f:\n",
    "    for line in to_search:\n",
    "        f.write(line + \"\\n\")"
   ]
  }
 ],
 "metadata": {
  "kernelspec": {
   "display_name": "base",
   "language": "python",
   "name": "python3"
  },
  "language_info": {
   "codemirror_mode": {
    "name": "ipython",
    "version": 3
   },
   "file_extension": ".py",
   "mimetype": "text/x-python",
   "name": "python",
   "nbconvert_exporter": "python",
   "pygments_lexer": "ipython3",
   "version": "3.10.11"
  },
  "orig_nbformat": 4
 },
 "nbformat": 4,
 "nbformat_minor": 2
}
