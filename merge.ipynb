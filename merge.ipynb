{
 "cells": [
  {
   "cell_type": "code",
   "execution_count": 1,
   "metadata": {},
   "outputs": [],
   "source": [
    "# Env\n",
    "import os\n",
    "import pandas as pd\n",
    "\n",
    "os.chdir('C:/Users/14187/Documents/HuangLab/probe_designer/2023.4.25')\n",
    "resultsdir = os.listdir('./results/')"
   ]
  },
  {
   "cell_type": "code",
   "execution_count": 2,
   "metadata": {},
   "outputs": [],
   "source": [
    "result = pd.DataFrame()\n",
    "for dir in resultsdir:\n",
    "    try:\n",
    "        df = pd.read_excel('./results/'+dir+'/probes_wanted.xlsx')\n",
    "        result = pd.concat([result,df])\n",
    "    except:continue\n",
    "\n",
    "result.to_excel('result.xlsx')"
   ]
  },
  {
   "cell_type": "code",
   "execution_count": 4,
   "metadata": {},
   "outputs": [],
   "source": [
    "gene_name = pd.read_excel('immune.xlsx')\n",
    "gene_name_list = list(set(gene_name['gene_name']))\n",
    "\n",
    "gene_out = pd.read_excel('result.xlsx')\n",
    "gene_out_name = list(set(gene_out['gene_name']))\n",
    "\n",
    "gene_name_miss = [_ for _ in gene_name_list]\n",
    "for gene in gene_name_list:\n",
    "    if gene in gene_out_name:\n",
    "        gene_name_miss.remove(gene)\n",
    "\n",
    "\n",
    "with open('notfound.txt', 'w') as f:\n",
    "    f.write('\\n'.join(gene_name_miss))"
   ]
  }
 ],
 "metadata": {
  "kernelspec": {
   "display_name": "base",
   "language": "python",
   "name": "python3"
  },
  "language_info": {
   "codemirror_mode": {
    "name": "ipython",
    "version": 3
   },
   "file_extension": ".py",
   "mimetype": "text/x-python",
   "name": "python",
   "nbconvert_exporter": "python",
   "pygments_lexer": "ipython3",
   "version": "3.9.13"
  },
  "orig_nbformat": 4
 },
 "nbformat": 4,
 "nbformat_minor": 2
}
