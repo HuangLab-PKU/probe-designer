{
 "cells": [
  {
   "attachments": {},
   "cell_type": "markdown",
   "metadata": {},
   "source": [
    "# Probe Designer\n"
   ]
  },
  {
   "attachments": {},
   "cell_type": "markdown",
   "metadata": {},
   "source": [
    "## Environment\n"
   ]
  },
  {
   "cell_type": "code",
   "execution_count": 1,
   "metadata": {},
   "outputs": [],
   "source": [
    "# basci env\n",
    "import os\n",
    "from pathlib import Path\n",
    "import sys\n",
    "import pandas as pd\n",
    "import time\n",
    "import json\n",
    "from tqdm import tqdm\n",
    "\n",
    "# data process of file from ncbi\n",
    "from Bio import SeqIO\n",
    "from Bio.Seq import Seq\n",
    "from Bio.SeqRecord import SeqRecord\n",
    "\n",
    "# get gene data from ncbi\n",
    "from Bio import Entrez\n",
    "\n",
    "# blast and xml file process\n",
    "from Bio.Blast import NCBIWWW\n",
    "from Bio.Blast import NCBIXML\n",
    "\n",
    "# add package to sys var\n",
    "# os.chdir(os.path.dirname(os.path.abspath(__file__)))\n",
    "# sys.path.append(\"../lib\")\n",
    "\n",
    "# dir\n",
    "DATASET_DIR = Path('F:\\spatial_data\\dataset_probe')\n",
    "RUNID = '20240808_Z.Y_Mouse'\n",
    "workdir = DATASET_DIR / RUNID\n",
    "os.makedirs(workdir, exist_ok=True)"
   ]
  },
  {
   "cell_type": "code",
   "execution_count": 2,
   "metadata": {},
   "outputs": [],
   "source": [
    "# create results dir\n",
    "current_time = time.localtime()\n",
    "formatted_time = time.strftime(\"%Y%m%d_%H%M%S\", current_time)\n",
    "output = os.path.join(workdir, 'results', formatted_time+'_NCBI')\n",
    "bds_candidate_dir = os.path.join(output, \"bds_candidate\")\n",
    "os.makedirs(output, exist_ok=True)\n",
    "os.makedirs(bds_candidate_dir, exist_ok=True)\n",
    "\n",
    "# file name variables\n",
    "bds_candidate_file_suffix = \"_bds_candidate.fasta\"\n",
    "combined_bds_candidates_file = \"total_bds_candidate.fasta\"\n",
    "combined_bds_candidates_blast_file = \"total_bds_candidate_blast.fasta\"\n",
    "bds_candidate_num_file = \"bds_candidate_num.json\"\n",
    "blast_results_file = \"blast_results.xml\"\n",
    "\n",
    "# tmp file\n",
    "gene_name_list_file = \"gene_name_list.txt\"\n",
    "gene_id_name_file = \"gene_id_list.txt\"\n",
    "gene_seq_in_file = \"gene_seq_in_file.gb\"\n",
    "blast_results_file = \"blast_results.xml\""
   ]
  },
  {
   "attachments": {},
   "cell_type": "markdown",
   "metadata": {},
   "source": [
    "## Get genbank file of each gene from ncbi dataset\n",
    "\n",
    "https://www.ncbi.nlm.nih.gov/books/NBK25499/#chapter4.EFetch\n"
   ]
  },
  {
   "cell_type": "code",
   "execution_count": 3,
   "metadata": {},
   "outputs": [],
   "source": [
    "# Get gene id and other information from ncbi dataset(api)\n",
    "## Generate gene_search_list from gene_name_list\n",
    "organism_of_interest = \"mouse\"\n",
    "n_type_of_interest = \"mRNA\"\n",
    "with open(os.path.join(output, gene_name_list_file)) as f: gene_name_list = f.read().splitlines()  # Read name_list from existing file\n",
    "with open(os.path.join(output, gene_id_name_file), \"r\") as f: id_list = f.read().split(\"\\n\")       # Read id_list from existing file"
   ]
  },
  {
   "cell_type": "code",
   "execution_count": null,
   "metadata": {},
   "outputs": [],
   "source": [
    "# ## Get gene id list using Entrez.esearch\n",
    "# gene_search_list = [\", \".join([name, organism_of_interest, n_type_of_interest])\n",
    "#     for name in gene_name_list]\n",
    "# id_list = []\n",
    "# for gene_search in gene_search_list:\n",
    "#     Entrez.email = \"1418767067@qq.com\"\n",
    "#     handle = Entrez.esearch(db=\"nuccore\", term=gene_search)\n",
    "#     record = Entrez.read(handle)\n",
    "#     handle.close()\n",
    "#     id_list += record[\"IdList\"][:1]  # set number of search results to read\n",
    "# with open(tmp + gene_id_name_file, \"w\") as f:\n",
    "#     f.write(\"\\n\".join(id_list))"
   ]
  },
  {
   "cell_type": "code",
   "execution_count": 4,
   "metadata": {},
   "outputs": [
    {
     "name": "stderr",
     "output_type": "stream",
     "text": [
      "100%|██████████| 1/1 [00:01<00:00,  1.59s/it]\n"
     ]
    }
   ],
   "source": [
    "# Get the genbank file of each gene by id list\n",
    "fetch_per_round = 3\n",
    "round = -(-len(id_list) // fetch_per_round)\n",
    "\n",
    "# initialization of gb file\n",
    "with open(os.path.join(output, gene_seq_in_file), \"w\") as f: f.write(\"\")\n",
    "\n",
    "for i in tqdm(range(round)):\n",
    "    id_list_per_round = id_list[i * fetch_per_round : (i + 1) * fetch_per_round]\n",
    "    Entrez.email = \"1418767067@qq.com\"\n",
    "    handle = Entrez.efetch(\n",
    "        db=\"nuccore\",\n",
    "        strand=1,  # plus if strand=1\n",
    "        id=id_list_per_round,\n",
    "        rettype=\"gbwithparts\",\n",
    "        retmode=\"text\",\n",
    "    )\n",
    "    seq_record = handle.read()\n",
    "    handle.close()\n",
    "    with open(os.path.join(output, gene_seq_in_file), \"a\") as f:\n",
    "        f.write(seq_record)"
   ]
  },
  {
   "attachments": {},
   "cell_type": "markdown",
   "metadata": {},
   "source": [
    "## Binding site Searcher\n"
   ]
  },
  {
   "cell_type": "code",
   "execution_count": 5,
   "metadata": {},
   "outputs": [
    {
     "name": "stderr",
     "output_type": "stream",
     "text": [
      "  0%|          | 0/3 [00:00<?, ?it/s]C:\\Users\\Mingchuan\\AppData\\Local\\Temp\\ipykernel_17416\\3035274352.py:48: FutureWarning: The behavior of DataFrame concatenation with empty or all-NA entries is deprecated. In a future version, this will no longer exclude empty or all-NA columns when determining the result dtypes. To retain the old behavior, exclude the relevant entries before the concat operation.\n",
      "  BDS_INFO = pd.concat([BDS_INFO, add], ignore_index=True)\n",
      "100%|██████████| 3/3 [00:00<00:00, 34.88it/s]\n"
     ]
    }
   ],
   "source": [
    "from lib.search_binding import position_search, optimize_subsequence, gb_extract\n",
    "\n",
    "# Initiation of array\n",
    "binding_site_entry = [\n",
    "    \"accession\", \"gene_name\", \"mol_type\", \"organism\",\n",
    "    \"pos_on_seq\", \"binding\", \"Tm\", \"Tm_l\", \"Tm_r\", \"mfe\", \"wanted\"]\n",
    "align_entry = [\"align_num\", \"align_accession\", \"align_descrip\", \"plus/minus\"]\n",
    "BDS_INFO = pd.DataFrame(columns=binding_site_entry + align_entry)\n",
    "\n",
    "# Search binding sites on mRNA sequence\n",
    "file_in = os.path.join(output, gene_seq_in_file)\n",
    "file_out_dir = bds_candidate_dir\n",
    "os.makedirs(file_out_dir, exist_ok=True)\n",
    "\n",
    "pre_binding_num = {}\n",
    "\n",
    "# initialization of file\n",
    "with open(os.path.join(output, combined_bds_candidates_file), \"w\") as handle: handle.write(\"\")\n",
    "with open(os.path.join(output, combined_bds_candidates_blast_file), \"w\") as f: f.write(\"\")\n",
    "with open(os.path.join(output, gene_seq_in_file), 'r') as file_handle: gb_records = list(SeqIO.parse(file_handle, \"genbank\"))\n",
    "\n",
    "for _, record in enumerate(tqdm(gb_records, position=0)):\n",
    "    id, gene_name, mol_type, organism, minus_seq = gb_extract(record, gene_name=gene_name_list[_], CDS=True)\n",
    "    pos_info = position_search(\n",
    "        minus_seq, gene=gene_name,\n",
    "        BDS_len=40, BDS_num=50, min_gap=1, better_gap=40,\n",
    "        G_min=0.25, G_max=0.7, G_consecutive=5, Tm_low=50, Tm_high=65, \n",
    "        verbose_pos=1, leave=False, warn=False)\n",
    "    \n",
    "    record_list = []\n",
    "    for i, seq in enumerate([_['seq'] for _ in pos_info]):\n",
    "        record_list.append(\n",
    "            SeqRecord(Seq(seq), id=\"pre_binding\" + str(i),\n",
    "                description=\"|\".join([id, gene_name, organism, mol_type])))\n",
    "\n",
    "    # add information about binding sites to FOI\n",
    "    add = pd.DataFrame(pos_info)\n",
    "    add['accession'] = id\n",
    "    add['gene_name'] = gene_name\n",
    "    add['mol_type'] = mol_type\n",
    "    add['organism'] = organism\n",
    "    BDS_INFO = pd.concat([BDS_INFO, add], ignore_index=True)\n",
    "\n",
    "    file_out = os.path.join(file_out_dir, gene_name + bds_candidate_file_suffix)\n",
    "    \n",
    "    # write pre_binding to files\n",
    "    with open(file_out, \"w\") as f:\n",
    "        for new_record in record_list: SeqIO.write(new_record, f, \"fasta\")\n",
    "    with open(os.path.join(output, combined_bds_candidates_file), \"a\") as handle:\n",
    "        for new_record in record_list: SeqIO.write(new_record, handle, \"fasta\")\n",
    "    with open(os.path.join(output, combined_bds_candidates_blast_file), \"a\") as handle:\n",
    "        for new_record in record_list: \n",
    "            seq = str(new_record.seq)\n",
    "            seq = seq[len(seq)//2-16:len(seq)//2+16]\n",
    "            new_record = SeqRecord(Seq(seq), id=new_record.id, description=new_record.description)\n",
    "            SeqIO.write(new_record, handle, \"fasta\")\n",
    "    # record the num of pre_binding for each gene\n",
    "    pre_binding_num[f\"{id}_{gene_name}\"] = len(pos_info)\n",
    "\n",
    "with open(os.path.join(output, bds_candidate_num_file), \"w\") as f: json.dump(pre_binding_num, f)"
   ]
  },
  {
   "attachments": {},
   "cell_type": "markdown",
   "metadata": {},
   "source": [
    "## Blast and extract blast results\n",
    "\n",
    "NCBIXML: https://homolog.us/Biopython/Bio.Blast.NCBIXML.html#read/0\n",
    "\n",
    "BlastRecord: https://biopython.org/docs/1.75/api/Bio.Blast.Record.html\n",
    "\n",
    "XMLReader: https://codebeautify.org/xmlviewer#\n"
   ]
  },
  {
   "cell_type": "code",
   "execution_count": null,
   "metadata": {},
   "outputs": [],
   "source": [
    "# with open(file_out_dir + total_pre_binding_file_name, \"r\") as f:\n",
    "#     fasta_string = f.read()\n",
    "# txid = [2697049]  # organism\n",
    "\n",
    "# # Submit BLAST search and get handle object\n",
    "# handle = NCBIWWW.qblast(\n",
    "#     program=\"blastn\",\n",
    "#     megablast=\"yes\",\n",
    "#     database=\"refseq_rna\",\n",
    "#     sequence=fasta_string,\n",
    "#     url_base=\"https://blast.ncbi.nlm.nih.gov/Blast.cgi\",\n",
    "#     format_object=\"Alignment\",\n",
    "#     format_type=\"Xml\",\n",
    "# )\n",
    "\n",
    "# # read handle object and save to a file\n",
    "# with open(tmp + blast_results_file, \"w\") as f:\n",
    "#     f.write(handle.read())"
   ]
  },
  {
   "cell_type": "code",
   "execution_count": 6,
   "metadata": {},
   "outputs": [],
   "source": [
    "# Extract interested information from blast_results\n",
    "align_num = []\n",
    "\n",
    "# read the id/plus-minus part/align_num\n",
    "with open(os.path.join(output, blast_results_file), \"r\") as blast_output:\n",
    "    blast_records = NCBIXML.parse(blast_output)\n",
    "    loca = 0\n",
    "    for blast_record in blast_records:\n",
    "        align_accession = []\n",
    "        align_descrip_list = []\n",
    "        # get align num of each binding site\n",
    "        length = len(blast_record.alignments)\n",
    "        align_num.append(length)\n",
    "        for i in range(length):\n",
    "            descrip = blast_record.descriptions[i].title.split(\"|\")\n",
    "            # get accession and descrip of each align seq\n",
    "            align_accession.append(descrip[3])\n",
    "            align_descrip_list.append(descrip[-1])\n",
    "        BDS_INFO.loc[loca, \"align_accession\"] = \"|\".join(str(_) for _ in align_accession)\n",
    "\n",
    "        # add align_descrip to df\n",
    "        BDS_INFO.loc[loca, \"align_descrip\"] = \"|\".join(str(_) for _ in align_descrip_list)\n",
    "\n",
    "        # get plus/minus of each align seq\n",
    "        p_m = [blast_record.alignments[_].hsps[0].frame[1] for _ in range(length)]\n",
    "\n",
    "        # add plus/minus to df\n",
    "        try: BDS_INFO.loc[loca, \"plus/minus\"] = \",\".join([str(_) for _ in p_m])\n",
    "        except: BDS_INFO.loc[loca, \"plus/minus\"] = \"NAN\"\n",
    "\n",
    "        loca += 1\n",
    "\n",
    "BDS_INFO[\"align_num\"] = align_num"
   ]
  },
  {
   "attachments": {},
   "cell_type": "markdown",
   "metadata": {},
   "source": [
    "## Select wanted binding site\n"
   ]
  },
  {
   "cell_type": "code",
   "execution_count": 7,
   "metadata": {},
   "outputs": [
    {
     "name": "stdout",
     "output_type": "stream",
     "text": [
      "Gene Myl2: Not enough pos for 3 binding sites.\n",
      "Gene Myl2: condition too harsh, loose to get better results\n",
      "[107, 108, 111, 116, 140, 141, 245, 246, 247, 248, 249, 250, 251, 252]\n"
     ]
    }
   ],
   "source": [
    "# sieve for the suitable binding site\n",
    "BDS_INFO[\"wanted\"] = [True] * len(BDS_INFO)\n",
    "verbose = False\n",
    "gene_name_list = [_.upper() for _ in gene_name_list]\n",
    "gene_name_list_out = [i for i in gene_name_list]\n",
    "for i in range(len(BDS_INFO)):\n",
    "    # check gene_name\n",
    "    gene_name = BDS_INFO.loc[i, \"gene_name\"]\n",
    "    if gene_name.upper() not in gene_name_list:\n",
    "        BDS_INFO.loc[i, \"wanted\"] = False\n",
    "        if verbose: print(f\"Gene name: {gene_name} not in gene list.\")\n",
    "    else:\n",
    "        try: gene_name_list_out.remove(gene_name)\n",
    "        except: pass\n",
    "\n",
    "    # check DNA or mRNA type\n",
    "    if BDS_INFO.loc[i, \"wanted\"] == True:\n",
    "        if BDS_INFO.loc[i, \"mol_type\"] != \"mRNA\":\n",
    "            BDS_INFO.loc[i, \"wanted\"] = False\n",
    "            if verbose: print(f\"Gene name: {gene_name} mRNA.\")\n",
    "\n",
    "    # check gene_organism name\n",
    "    if BDS_INFO.loc[i, \"wanted\"] == True:\n",
    "        spe_ori, gene_ori = BDS_INFO.loc[i, \"organism\"], BDS_INFO.loc[i, \"gene_name\"]\n",
    "        descrip = BDS_INFO.loc[i, \"align_descrip\"].split(\"|\")\n",
    "        for des in descrip:\n",
    "            if gene_ori not in des and spe_ori in des:\n",
    "                BDS_INFO.loc[i, \"wanted\"] = False\n",
    "                if verbose: print(f\"Gene name: {gene_ori} not specific.\")\n",
    "                break\n",
    "\n",
    "    # check plus/minus\n",
    "    if BDS_INFO.loc[i, \"wanted\"] == True:\n",
    "        if pd.isnull(BDS_INFO.loc[i, \"plus/minus\"]) or BDS_INFO.loc[i, \"plus/minus\"]=='':\n",
    "            BDS_INFO.loc[i, \"wanted\"] = False\n",
    "            if verbose: print(f\"Gene name: {gene_ori} not found in BLAST.\")\n",
    "        else:\n",
    "            pm_list = BDS_INFO.loc[i, \"plus/minus\"].split(\",\")\n",
    "            if \"-1\" not in pm_list:\n",
    "                BDS_INFO.loc[i, \"wanted\"] = False\n",
    "                if verbose: print(f\"Gene name: {gene_ori} not plus/minus.\")\n",
    "\n",
    "# write the whole information of interest to a excel file in tmp dir\n",
    "BDS_INFO.to_excel(os.path.join(output, \"probes_candidates.xlsx\"))\n",
    "\n",
    "out_tmp = BDS_INFO[BDS_INFO[\"wanted\"] == True]\n",
    "output_df = pd.DataFrame()\n",
    "for gene in out_tmp.gene_name.unique():\n",
    "    pos_wanted = list(out_tmp[out_tmp.gene_name == gene][\"pos_on_seq\"])\n",
    "    pos_best = optimize_subsequence(pos_wanted, length=3, min_gap=40, better_gap=80, gene=gene)\n",
    "    pos_output = out_tmp[out_tmp.gene_name == gene]\n",
    "    pos_output = pos_output[pos_output[\"pos_on_seq\"].isin(pos_best)]\n",
    "    output_df = pd.concat([output_df, pos_output])\n",
    "\n",
    "# write the output to a xlsx file\n",
    "output_df.to_excel(os.path.join(output, \"probes_wanted.xlsx\"))"
   ]
  }
 ],
 "metadata": {
  "kernelspec": {
   "display_name": "base",
   "language": "python",
   "name": "python3"
  },
  "language_info": {
   "codemirror_mode": {
    "name": "ipython",
    "version": 3
   },
   "file_extension": ".py",
   "mimetype": "text/x-python",
   "name": "python",
   "nbconvert_exporter": "python",
   "pygments_lexer": "ipython3",
   "version": "3.11.9"
  },
  "orig_nbformat": 4
 },
 "nbformat": 4,
 "nbformat_minor": 2
}
