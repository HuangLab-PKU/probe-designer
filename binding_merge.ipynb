{
 "cells": [
  {
   "cell_type": "code",
   "execution_count": 46,
   "metadata": {},
   "outputs": [],
   "source": [
    "# Env\n",
    "import os\n",
    "import pandas as pd\n",
    "import numpy as np\n",
    "\n",
    "workdir = r'./dataset/2023.12.8_Human early development'\n",
    "resultsdir = os.path.join(workdir, 'results')\n",
    "gene_list = pd.read_excel(os.path.join(workdir, 'Human early development_gene list_v4_ML_2311.xlsx'), sheet_name='UNIQUE GENE LIST')\n",
    "gene_list = [_.upper() for _ in gene_list['Unique gene list'].unique()]"
   ]
  },
  {
   "cell_type": "code",
   "execution_count": 47,
   "metadata": {},
   "outputs": [],
   "source": [
    "result = pd.DataFrame()\n",
    "for dir in os.listdir(os.path.join(resultsdir)):\n",
    "    try:\n",
    "        df = pd.read_excel(os.path.join(resultsdir, dir, \"probes_wanted.xlsx\"), index_col=0)\n",
    "        # df = df[df.columns[1:]]\n",
    "        result = pd.concat([result, df])\n",
    "    except:\n",
    "        continue\n",
    "\n",
    "# result[\"gene_name\"] = [_ if _ in gene_list else None for _ in result[\"gene_name\"]]\n",
    "result[\"gene_name\"] = pd.Categorical(\n",
    "    [_.upper() for _ in result[\"gene_name\"]], categories=gene_list, ordered=True\n",
    ")\n",
    "result = result.sort_values([\"gene_name\", \"pos_on_seq\"])\n",
    "result.drop_duplicates(subset=[\"binding\"], keep=\"first\", inplace=True)\n",
    "# result = result.set_index(\"accession\")\n",
    "\n",
    "result.to_excel(os.path.join(workdir, 'gene_binding_site.xlsx'))\n",
    "\n",
    "to_search = [gene for gene in gene_list if len(result[result[\"gene_name\"] == gene]) < 1]\n",
    "with open(os.path.join(workdir, \"to_search.txt\"), \"w\") as f:\n",
    "    for line in to_search:\n",
    "        f.write(line + \"\\n\")"
   ]
  }
 ],
 "metadata": {
  "kernelspec": {
   "display_name": "base",
   "language": "python",
   "name": "python3"
  },
  "language_info": {
   "codemirror_mode": {
    "name": "ipython",
    "version": 3
   },
   "file_extension": ".py",
   "mimetype": "text/x-python",
   "name": "python",
   "nbconvert_exporter": "python",
   "pygments_lexer": "ipython3",
   "version": "3.10.13"
  },
  "orig_nbformat": 4
 },
 "nbformat": 4,
 "nbformat_minor": 2
}
