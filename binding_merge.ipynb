{
 "cells": [
  {
   "cell_type": "code",
   "execution_count": 9,
   "metadata": {},
   "outputs": [],
   "source": [
    "# Env\n",
    "import os\n",
    "from pathlib import Path\n",
    "import pandas as pd\n",
    "import numpy as np\n",
    "import re\n",
    "\n",
    "\n",
    "DATASET_DIR = Path('/mnt/f/spatial_data/probe')\n",
    "RUNID = 'example_dataset'\n",
    "workdir = DATASET_DIR / RUNID\n",
    "resultsdir = os.path.join(workdir, 'results')\n",
    "organism = 'mouse'"
   ]
  },
  {
   "cell_type": "code",
   "execution_count": null,
   "metadata": {},
   "outputs": [],
   "source": [
    "gene_info = pd.read_excel(os.path.join(workdir, \"gene_info.xlsx\"))\n",
    "gene_info['gene'] = gene_info['gene_name']\n",
    "if organism == 'mouse': gene_info['gene'] = gene_info['gene'].str.capitalize()\n",
    "elif organism == 'human': gene_info['gene'] = gene_info['gene'].str.upper()\n",
    "gene_list = [_.strip() for _ in gene_info['gene'].unique() if _!=0]\n",
    "print(len(gene_list))\n",
    "gene_info.head()"
   ]
  },
  {
   "cell_type": "code",
   "execution_count": null,
   "metadata": {},
   "outputs": [],
   "source": [
    "def adjust_gene_name(gene_name, gene_list):\n",
    "    gene_list = [x.upper() for x in gene_list]\n",
    "    match = re.search(r'(.+)-(\\d+)$', gene_name)\n",
    "    if match:\n",
    "        base_gene_name = match.group(1)\n",
    "        if base_gene_name.upper() in gene_list or gene_name.upper() in gene_list: return base_gene_name\n",
    "        else: return gene_name\n",
    "    else: return gene_name\n",
    "\n",
    "\n",
    "result = pd.DataFrame()\n",
    "for dir in os.listdir(os.path.join(resultsdir)):\n",
    "    try: result = pd.concat([result, pd.read_excel(os.path.join(resultsdir, dir, \"probes_wanted.xlsx\"), index_col=0)])\n",
    "    except: continue\n",
    "\n",
    "result[\"gene_name\"] = [adjust_gene_name(_, gene_list) for _ in result[\"gene_name\"]]\n",
    "result = result.sort_values([\"gene_name\", \"pos\"])\n",
    "result.drop_duplicates(subset=[\"bds\"], keep=\"first\", inplace=True)\n",
    "result.head()"
   ]
  },
  {
   "cell_type": "code",
   "execution_count": 12,
   "metadata": {},
   "outputs": [],
   "source": [
    "result.to_excel(os.path.join(workdir, 'gene_binding_site.xlsx'))\n",
    "\n",
    "result[\"gene_name\"] = result[\"gene_name\"].str.upper()\n",
    "to_search = [gene for gene in gene_list if len(result[result[\"gene_name\"] == gene.upper()]) < 1]\n",
    "with open(os.path.join(workdir, \"to_search.txt\"), \"w\") as f:\n",
    "    for line in to_search: f.write(line + \"\\n\")"
   ]
  }
 ],
 "metadata": {
  "kernelspec": {
   "display_name": "probe-designer",
   "language": "python",
   "name": "python3"
  },
  "language_info": {
   "codemirror_mode": {
    "name": "ipython",
    "version": 3
   },
   "file_extension": ".py",
   "mimetype": "text/x-python",
   "name": "python",
   "nbconvert_exporter": "python",
   "pygments_lexer": "ipython3",
   "version": "3.11.8"
  },
  "orig_nbformat": 4
 },
 "nbformat": 4,
 "nbformat_minor": 2
}
